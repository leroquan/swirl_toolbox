{
 "cells": [
  {
   "cell_type": "code",
   "execution_count": 1,
   "id": "initial_id",
   "metadata": {
    "collapsed": true,
    "ExecuteTime": {
     "end_time": "2025-07-31T13:39:30.186966Z",
     "start_time": "2025-07-31T13:39:29.796849Z"
    }
   },
   "outputs": [],
   "source": [
    "import xarray as xr"
   ]
  },
  {
   "cell_type": "code",
   "outputs": [
    {
     "ename": "FileNotFoundError",
     "evalue": "[Errno 2] No such file or directory: '/home/leroquan@eawag.wroot.emp-eaw.ch/swirl_toolbox/03-Run/D:\\\\geneva_nc_10min\\\\3Dsnaps.0000000000.t001.nc'",
     "output_type": "error",
     "traceback": [
      "\u001B[31m---------------------------------------------------------------------------\u001B[39m",
      "\u001B[31mKeyError\u001B[39m                                  Traceback (most recent call last)",
      "\u001B[36mFile \u001B[39m\u001B[32m~/miniconda3/envs/swirl_toolbox/lib/python3.11/site-packages/xarray/backends/file_manager.py:211\u001B[39m, in \u001B[36mCachingFileManager._acquire_with_cache_info\u001B[39m\u001B[34m(self, needs_lock)\u001B[39m\n\u001B[32m    210\u001B[39m \u001B[38;5;28;01mtry\u001B[39;00m:\n\u001B[32m--> \u001B[39m\u001B[32m211\u001B[39m     file = \u001B[38;5;28;43mself\u001B[39;49m\u001B[43m.\u001B[49m\u001B[43m_cache\u001B[49m\u001B[43m[\u001B[49m\u001B[38;5;28;43mself\u001B[39;49m\u001B[43m.\u001B[49m\u001B[43m_key\u001B[49m\u001B[43m]\u001B[49m\n\u001B[32m    212\u001B[39m \u001B[38;5;28;01mexcept\u001B[39;00m \u001B[38;5;167;01mKeyError\u001B[39;00m:\n",
      "\u001B[36mFile \u001B[39m\u001B[32m~/miniconda3/envs/swirl_toolbox/lib/python3.11/site-packages/xarray/backends/lru_cache.py:56\u001B[39m, in \u001B[36mLRUCache.__getitem__\u001B[39m\u001B[34m(self, key)\u001B[39m\n\u001B[32m     55\u001B[39m \u001B[38;5;28;01mwith\u001B[39;00m \u001B[38;5;28mself\u001B[39m._lock:\n\u001B[32m---> \u001B[39m\u001B[32m56\u001B[39m     value = \u001B[38;5;28;43mself\u001B[39;49m\u001B[43m.\u001B[49m\u001B[43m_cache\u001B[49m\u001B[43m[\u001B[49m\u001B[43mkey\u001B[49m\u001B[43m]\u001B[49m\n\u001B[32m     57\u001B[39m     \u001B[38;5;28mself\u001B[39m._cache.move_to_end(key)\n",
      "\u001B[31mKeyError\u001B[39m: [<function _open_scipy_netcdf at 0x7f1931024c20>, ('/home/leroquan@eawag.wroot.emp-eaw.ch/swirl_toolbox/03-Run/D:\\\\geneva_nc_10min\\\\3Dsnaps.0000000000.t001.nc',), 'r', (('mmap', None), ('version', 2)), 'd9d6df33-dcf1-4413-a93e-98654eddeb78']",
      "\nDuring handling of the above exception, another exception occurred:\n",
      "\u001B[31mFileNotFoundError\u001B[39m                         Traceback (most recent call last)",
      "\u001B[36mCell\u001B[39m\u001B[36m \u001B[39m\u001B[32mIn[2]\u001B[39m\u001B[32m, line 1\u001B[39m\n\u001B[32m----> \u001B[39m\u001B[32m1\u001B[39m ds = \u001B[43mxr\u001B[49m\u001B[43m.\u001B[49m\u001B[43mopen_dataset\u001B[49m\u001B[43m(\u001B[49m\u001B[33;43mr\u001B[39;49m\u001B[33;43m\"\u001B[39;49m\u001B[33;43mD:\u001B[39;49m\u001B[33;43m\\\u001B[39;49m\u001B[33;43mgeneva_nc_10min\u001B[39;49m\u001B[33;43m\\\u001B[39;49m\u001B[33;43m3Dsnaps.0000000000.t001.nc\u001B[39;49m\u001B[33;43m\"\u001B[39;49m\u001B[43m)\u001B[49m\n",
      "\u001B[36mFile \u001B[39m\u001B[32m~/miniconda3/envs/swirl_toolbox/lib/python3.11/site-packages/xarray/backends/api.py:687\u001B[39m, in \u001B[36mopen_dataset\u001B[39m\u001B[34m(filename_or_obj, engine, chunks, cache, decode_cf, mask_and_scale, decode_times, decode_timedelta, use_cftime, concat_characters, decode_coords, drop_variables, inline_array, chunked_array_type, from_array_kwargs, backend_kwargs, **kwargs)\u001B[39m\n\u001B[32m    675\u001B[39m decoders = _resolve_decoders_kwargs(\n\u001B[32m    676\u001B[39m     decode_cf,\n\u001B[32m    677\u001B[39m     open_backend_dataset_parameters=backend.open_dataset_parameters,\n\u001B[32m   (...)\u001B[39m\u001B[32m    683\u001B[39m     decode_coords=decode_coords,\n\u001B[32m    684\u001B[39m )\n\u001B[32m    686\u001B[39m overwrite_encoded_chunks = kwargs.pop(\u001B[33m\"\u001B[39m\u001B[33moverwrite_encoded_chunks\u001B[39m\u001B[33m\"\u001B[39m, \u001B[38;5;28;01mNone\u001B[39;00m)\n\u001B[32m--> \u001B[39m\u001B[32m687\u001B[39m backend_ds = \u001B[43mbackend\u001B[49m\u001B[43m.\u001B[49m\u001B[43mopen_dataset\u001B[49m\u001B[43m(\u001B[49m\n\u001B[32m    688\u001B[39m \u001B[43m    \u001B[49m\u001B[43mfilename_or_obj\u001B[49m\u001B[43m,\u001B[49m\n\u001B[32m    689\u001B[39m \u001B[43m    \u001B[49m\u001B[43mdrop_variables\u001B[49m\u001B[43m=\u001B[49m\u001B[43mdrop_variables\u001B[49m\u001B[43m,\u001B[49m\n\u001B[32m    690\u001B[39m \u001B[43m    \u001B[49m\u001B[43m*\u001B[49m\u001B[43m*\u001B[49m\u001B[43mdecoders\u001B[49m\u001B[43m,\u001B[49m\n\u001B[32m    691\u001B[39m \u001B[43m    \u001B[49m\u001B[43m*\u001B[49m\u001B[43m*\u001B[49m\u001B[43mkwargs\u001B[49m\u001B[43m,\u001B[49m\n\u001B[32m    692\u001B[39m \u001B[43m\u001B[49m\u001B[43m)\u001B[49m\n\u001B[32m    693\u001B[39m ds = _dataset_from_backend_dataset(\n\u001B[32m    694\u001B[39m     backend_ds,\n\u001B[32m    695\u001B[39m     filename_or_obj,\n\u001B[32m   (...)\u001B[39m\u001B[32m    705\u001B[39m     **kwargs,\n\u001B[32m    706\u001B[39m )\n\u001B[32m    707\u001B[39m \u001B[38;5;28;01mreturn\u001B[39;00m ds\n",
      "\u001B[36mFile \u001B[39m\u001B[32m~/miniconda3/envs/swirl_toolbox/lib/python3.11/site-packages/xarray/backends/scipy_.py:333\u001B[39m, in \u001B[36mScipyBackendEntrypoint.open_dataset\u001B[39m\u001B[34m(self, filename_or_obj, mask_and_scale, decode_times, concat_characters, decode_coords, drop_variables, use_cftime, decode_timedelta, mode, format, group, mmap, lock)\u001B[39m\n\u001B[32m    331\u001B[39m store_entrypoint = StoreBackendEntrypoint()\n\u001B[32m    332\u001B[39m \u001B[38;5;28;01mwith\u001B[39;00m close_on_error(store):\n\u001B[32m--> \u001B[39m\u001B[32m333\u001B[39m     ds = \u001B[43mstore_entrypoint\u001B[49m\u001B[43m.\u001B[49m\u001B[43mopen_dataset\u001B[49m\u001B[43m(\u001B[49m\n\u001B[32m    334\u001B[39m \u001B[43m        \u001B[49m\u001B[43mstore\u001B[49m\u001B[43m,\u001B[49m\n\u001B[32m    335\u001B[39m \u001B[43m        \u001B[49m\u001B[43mmask_and_scale\u001B[49m\u001B[43m=\u001B[49m\u001B[43mmask_and_scale\u001B[49m\u001B[43m,\u001B[49m\n\u001B[32m    336\u001B[39m \u001B[43m        \u001B[49m\u001B[43mdecode_times\u001B[49m\u001B[43m=\u001B[49m\u001B[43mdecode_times\u001B[49m\u001B[43m,\u001B[49m\n\u001B[32m    337\u001B[39m \u001B[43m        \u001B[49m\u001B[43mconcat_characters\u001B[49m\u001B[43m=\u001B[49m\u001B[43mconcat_characters\u001B[49m\u001B[43m,\u001B[49m\n\u001B[32m    338\u001B[39m \u001B[43m        \u001B[49m\u001B[43mdecode_coords\u001B[49m\u001B[43m=\u001B[49m\u001B[43mdecode_coords\u001B[49m\u001B[43m,\u001B[49m\n\u001B[32m    339\u001B[39m \u001B[43m        \u001B[49m\u001B[43mdrop_variables\u001B[49m\u001B[43m=\u001B[49m\u001B[43mdrop_variables\u001B[49m\u001B[43m,\u001B[49m\n\u001B[32m    340\u001B[39m \u001B[43m        \u001B[49m\u001B[43muse_cftime\u001B[49m\u001B[43m=\u001B[49m\u001B[43muse_cftime\u001B[49m\u001B[43m,\u001B[49m\n\u001B[32m    341\u001B[39m \u001B[43m        \u001B[49m\u001B[43mdecode_timedelta\u001B[49m\u001B[43m=\u001B[49m\u001B[43mdecode_timedelta\u001B[49m\u001B[43m,\u001B[49m\n\u001B[32m    342\u001B[39m \u001B[43m    \u001B[49m\u001B[43m)\u001B[49m\n\u001B[32m    343\u001B[39m \u001B[38;5;28;01mreturn\u001B[39;00m ds\n",
      "\u001B[36mFile \u001B[39m\u001B[32m~/miniconda3/envs/swirl_toolbox/lib/python3.11/site-packages/xarray/backends/store.py:44\u001B[39m, in \u001B[36mStoreBackendEntrypoint.open_dataset\u001B[39m\u001B[34m(self, filename_or_obj, mask_and_scale, decode_times, concat_characters, decode_coords, drop_variables, use_cftime, decode_timedelta)\u001B[39m\n\u001B[32m     30\u001B[39m \u001B[38;5;28;01mdef\u001B[39;00m\u001B[38;5;250m \u001B[39m\u001B[34mopen_dataset\u001B[39m(\n\u001B[32m     31\u001B[39m     \u001B[38;5;28mself\u001B[39m,\n\u001B[32m     32\u001B[39m     filename_or_obj: \u001B[38;5;28mstr\u001B[39m | os.PathLike[Any] | ReadBuffer | AbstractDataStore,\n\u001B[32m   (...)\u001B[39m\u001B[32m     40\u001B[39m     decode_timedelta=\u001B[38;5;28;01mNone\u001B[39;00m,\n\u001B[32m     41\u001B[39m ) -> Dataset:\n\u001B[32m     42\u001B[39m     \u001B[38;5;28;01massert\u001B[39;00m \u001B[38;5;28misinstance\u001B[39m(filename_or_obj, AbstractDataStore)\n\u001B[32m---> \u001B[39m\u001B[32m44\u001B[39m     \u001B[38;5;28mvars\u001B[39m, attrs = \u001B[43mfilename_or_obj\u001B[49m\u001B[43m.\u001B[49m\u001B[43mload\u001B[49m\u001B[43m(\u001B[49m\u001B[43m)\u001B[49m\n\u001B[32m     45\u001B[39m     encoding = filename_or_obj.get_encoding()\n\u001B[32m     47\u001B[39m     \u001B[38;5;28mvars\u001B[39m, attrs, coord_names = conventions.decode_cf_variables(\n\u001B[32m     48\u001B[39m         \u001B[38;5;28mvars\u001B[39m,\n\u001B[32m     49\u001B[39m         attrs,\n\u001B[32m   (...)\u001B[39m\u001B[32m     56\u001B[39m         decode_timedelta=decode_timedelta,\n\u001B[32m     57\u001B[39m     )\n",
      "\u001B[36mFile \u001B[39m\u001B[32m~/miniconda3/envs/swirl_toolbox/lib/python3.11/site-packages/xarray/backends/common.py:312\u001B[39m, in \u001B[36mAbstractDataStore.load\u001B[39m\u001B[34m(self)\u001B[39m\n\u001B[32m    293\u001B[39m \u001B[38;5;28;01mdef\u001B[39;00m\u001B[38;5;250m \u001B[39m\u001B[34mload\u001B[39m(\u001B[38;5;28mself\u001B[39m):\n\u001B[32m    294\u001B[39m \u001B[38;5;250m    \u001B[39m\u001B[33;03m\"\"\"\u001B[39;00m\n\u001B[32m    295\u001B[39m \u001B[33;03m    This loads the variables and attributes simultaneously.\u001B[39;00m\n\u001B[32m    296\u001B[39m \u001B[33;03m    A centralized loading function makes it easier to create\u001B[39;00m\n\u001B[32m   (...)\u001B[39m\u001B[32m    309\u001B[39m \u001B[33;03m    are requested, so care should be taken to make sure its fast.\u001B[39;00m\n\u001B[32m    310\u001B[39m \u001B[33;03m    \"\"\"\u001B[39;00m\n\u001B[32m    311\u001B[39m     variables = FrozenDict(\n\u001B[32m--> \u001B[39m\u001B[32m312\u001B[39m         (_decode_variable_name(k), v) \u001B[38;5;28;01mfor\u001B[39;00m k, v \u001B[38;5;129;01min\u001B[39;00m \u001B[38;5;28;43mself\u001B[39;49m\u001B[43m.\u001B[49m\u001B[43mget_variables\u001B[49m\u001B[43m(\u001B[49m\u001B[43m)\u001B[49m.items()\n\u001B[32m    313\u001B[39m     )\n\u001B[32m    314\u001B[39m     attributes = FrozenDict(\u001B[38;5;28mself\u001B[39m.get_attrs())\n\u001B[32m    315\u001B[39m     \u001B[38;5;28;01mreturn\u001B[39;00m variables, attributes\n",
      "\u001B[36mFile \u001B[39m\u001B[32m~/miniconda3/envs/swirl_toolbox/lib/python3.11/site-packages/xarray/backends/scipy_.py:199\u001B[39m, in \u001B[36mScipyDataStore.get_variables\u001B[39m\u001B[34m(self)\u001B[39m\n\u001B[32m    197\u001B[39m \u001B[38;5;28;01mdef\u001B[39;00m\u001B[38;5;250m \u001B[39m\u001B[34mget_variables\u001B[39m(\u001B[38;5;28mself\u001B[39m):\n\u001B[32m    198\u001B[39m     \u001B[38;5;28;01mreturn\u001B[39;00m FrozenDict(\n\u001B[32m--> \u001B[39m\u001B[32m199\u001B[39m         (k, \u001B[38;5;28mself\u001B[39m.open_store_variable(k, v)) \u001B[38;5;28;01mfor\u001B[39;00m k, v \u001B[38;5;129;01min\u001B[39;00m \u001B[38;5;28;43mself\u001B[39;49m\u001B[43m.\u001B[49m\u001B[43mds\u001B[49m.variables.items()\n\u001B[32m    200\u001B[39m     )\n",
      "\u001B[36mFile \u001B[39m\u001B[32m~/miniconda3/envs/swirl_toolbox/lib/python3.11/site-packages/xarray/backends/scipy_.py:188\u001B[39m, in \u001B[36mScipyDataStore.ds\u001B[39m\u001B[34m(self)\u001B[39m\n\u001B[32m    186\u001B[39m \u001B[38;5;129m@property\u001B[39m\n\u001B[32m    187\u001B[39m \u001B[38;5;28;01mdef\u001B[39;00m\u001B[38;5;250m \u001B[39m\u001B[34mds\u001B[39m(\u001B[38;5;28mself\u001B[39m):\n\u001B[32m--> \u001B[39m\u001B[32m188\u001B[39m     \u001B[38;5;28;01mreturn\u001B[39;00m \u001B[38;5;28;43mself\u001B[39;49m\u001B[43m.\u001B[49m\u001B[43m_manager\u001B[49m\u001B[43m.\u001B[49m\u001B[43macquire\u001B[49m\u001B[43m(\u001B[49m\u001B[43m)\u001B[49m\n",
      "\u001B[36mFile \u001B[39m\u001B[32m~/miniconda3/envs/swirl_toolbox/lib/python3.11/site-packages/xarray/backends/file_manager.py:193\u001B[39m, in \u001B[36mCachingFileManager.acquire\u001B[39m\u001B[34m(self, needs_lock)\u001B[39m\n\u001B[32m    178\u001B[39m \u001B[38;5;28;01mdef\u001B[39;00m\u001B[38;5;250m \u001B[39m\u001B[34macquire\u001B[39m(\u001B[38;5;28mself\u001B[39m, needs_lock=\u001B[38;5;28;01mTrue\u001B[39;00m):\n\u001B[32m    179\u001B[39m \u001B[38;5;250m    \u001B[39m\u001B[33;03m\"\"\"Acquire a file object from the manager.\u001B[39;00m\n\u001B[32m    180\u001B[39m \n\u001B[32m    181\u001B[39m \u001B[33;03m    A new file is only opened if it has expired from the\u001B[39;00m\n\u001B[32m   (...)\u001B[39m\u001B[32m    191\u001B[39m \u001B[33;03m        An open file object, as returned by ``opener(*args, **kwargs)``.\u001B[39;00m\n\u001B[32m    192\u001B[39m \u001B[33;03m    \"\"\"\u001B[39;00m\n\u001B[32m--> \u001B[39m\u001B[32m193\u001B[39m     file, _ = \u001B[38;5;28;43mself\u001B[39;49m\u001B[43m.\u001B[49m\u001B[43m_acquire_with_cache_info\u001B[49m\u001B[43m(\u001B[49m\u001B[43mneeds_lock\u001B[49m\u001B[43m)\u001B[49m\n\u001B[32m    194\u001B[39m     \u001B[38;5;28;01mreturn\u001B[39;00m file\n",
      "\u001B[36mFile \u001B[39m\u001B[32m~/miniconda3/envs/swirl_toolbox/lib/python3.11/site-packages/xarray/backends/file_manager.py:217\u001B[39m, in \u001B[36mCachingFileManager._acquire_with_cache_info\u001B[39m\u001B[34m(self, needs_lock)\u001B[39m\n\u001B[32m    215\u001B[39m     kwargs = kwargs.copy()\n\u001B[32m    216\u001B[39m     kwargs[\u001B[33m\"\u001B[39m\u001B[33mmode\u001B[39m\u001B[33m\"\u001B[39m] = \u001B[38;5;28mself\u001B[39m._mode\n\u001B[32m--> \u001B[39m\u001B[32m217\u001B[39m file = \u001B[38;5;28;43mself\u001B[39;49m\u001B[43m.\u001B[49m\u001B[43m_opener\u001B[49m\u001B[43m(\u001B[49m\u001B[43m*\u001B[49m\u001B[38;5;28;43mself\u001B[39;49m\u001B[43m.\u001B[49m\u001B[43m_args\u001B[49m\u001B[43m,\u001B[49m\u001B[43m \u001B[49m\u001B[43m*\u001B[49m\u001B[43m*\u001B[49m\u001B[43mkwargs\u001B[49m\u001B[43m)\u001B[49m\n\u001B[32m    218\u001B[39m \u001B[38;5;28;01mif\u001B[39;00m \u001B[38;5;28mself\u001B[39m._mode == \u001B[33m\"\u001B[39m\u001B[33mw\u001B[39m\u001B[33m\"\u001B[39m:\n\u001B[32m    219\u001B[39m     \u001B[38;5;66;03m# ensure file doesn't get overridden when opened again\u001B[39;00m\n\u001B[32m    220\u001B[39m     \u001B[38;5;28mself\u001B[39m._mode = \u001B[33m\"\u001B[39m\u001B[33ma\u001B[39m\u001B[33m\"\u001B[39m\n",
      "\u001B[36mFile \u001B[39m\u001B[32m~/miniconda3/envs/swirl_toolbox/lib/python3.11/site-packages/xarray/backends/scipy_.py:127\u001B[39m, in \u001B[36m_open_scipy_netcdf\u001B[39m\u001B[34m(filename, mode, mmap, version)\u001B[39m\n\u001B[32m    124\u001B[39m     filename = io.BytesIO(filename)\n\u001B[32m    126\u001B[39m \u001B[38;5;28;01mtry\u001B[39;00m:\n\u001B[32m--> \u001B[39m\u001B[32m127\u001B[39m     \u001B[38;5;28;01mreturn\u001B[39;00m \u001B[43mscipy\u001B[49m\u001B[43m.\u001B[49m\u001B[43mio\u001B[49m\u001B[43m.\u001B[49m\u001B[43mnetcdf_file\u001B[49m\u001B[43m(\u001B[49m\u001B[43mfilename\u001B[49m\u001B[43m,\u001B[49m\u001B[43m \u001B[49m\u001B[43mmode\u001B[49m\u001B[43m=\u001B[49m\u001B[43mmode\u001B[49m\u001B[43m,\u001B[49m\u001B[43m \u001B[49m\u001B[43mmmap\u001B[49m\u001B[43m=\u001B[49m\u001B[43mmmap\u001B[49m\u001B[43m,\u001B[49m\u001B[43m \u001B[49m\u001B[43mversion\u001B[49m\u001B[43m=\u001B[49m\u001B[43mversion\u001B[49m\u001B[43m)\u001B[49m\n\u001B[32m    128\u001B[39m \u001B[38;5;28;01mexcept\u001B[39;00m \u001B[38;5;167;01mTypeError\u001B[39;00m \u001B[38;5;28;01mas\u001B[39;00m e:  \u001B[38;5;66;03m# netcdf3 message is obscure in this case\u001B[39;00m\n\u001B[32m    129\u001B[39m     errmsg = e.args[\u001B[32m0\u001B[39m]\n",
      "\u001B[36mFile \u001B[39m\u001B[32m~/miniconda3/envs/swirl_toolbox/lib/python3.11/site-packages/scipy/io/_netcdf.py:251\u001B[39m, in \u001B[36mnetcdf_file.__init__\u001B[39m\u001B[34m(self, filename, mode, mmap, version, maskandscale)\u001B[39m\n\u001B[32m    249\u001B[39m \u001B[38;5;28mself\u001B[39m.filename = filename\n\u001B[32m    250\u001B[39m omode = \u001B[33m'\u001B[39m\u001B[33mr+\u001B[39m\u001B[33m'\u001B[39m \u001B[38;5;28;01mif\u001B[39;00m mode == \u001B[33m'\u001B[39m\u001B[33ma\u001B[39m\u001B[33m'\u001B[39m \u001B[38;5;28;01melse\u001B[39;00m mode\n\u001B[32m--> \u001B[39m\u001B[32m251\u001B[39m \u001B[38;5;28mself\u001B[39m.fp = \u001B[38;5;28;43mopen\u001B[39;49m\u001B[43m(\u001B[49m\u001B[38;5;28;43mself\u001B[39;49m\u001B[43m.\u001B[49m\u001B[43mfilename\u001B[49m\u001B[43m,\u001B[49m\u001B[43m \u001B[49m\u001B[33;43mf\u001B[39;49m\u001B[33;43m'\u001B[39;49m\u001B[38;5;132;43;01m{\u001B[39;49;00m\u001B[43momode\u001B[49m\u001B[38;5;132;43;01m}\u001B[39;49;00m\u001B[33;43mb\u001B[39;49m\u001B[33;43m'\u001B[39;49m\u001B[43m)\u001B[49m\n\u001B[32m    252\u001B[39m \u001B[38;5;28;01mif\u001B[39;00m mmap \u001B[38;5;129;01mis\u001B[39;00m \u001B[38;5;28;01mNone\u001B[39;00m:\n\u001B[32m    253\u001B[39m     \u001B[38;5;66;03m# Mmapped files on PyPy cannot be usually closed\u001B[39;00m\n\u001B[32m    254\u001B[39m     \u001B[38;5;66;03m# before the GC runs, so it's better to use mmap=False\u001B[39;00m\n\u001B[32m    255\u001B[39m     \u001B[38;5;66;03m# as the default.\u001B[39;00m\n\u001B[32m    256\u001B[39m     mmap = (\u001B[38;5;129;01mnot\u001B[39;00m IS_PYPY)\n",
      "\u001B[31mFileNotFoundError\u001B[39m: [Errno 2] No such file or directory: '/home/leroquan@eawag.wroot.emp-eaw.ch/swirl_toolbox/03-Run/D:\\\\geneva_nc_10min\\\\3Dsnaps.0000000000.t001.nc'"
     ]
    }
   ],
   "source": [
    "ds = xr.open_dataset(r\"D:\\geneva_nc_10min\\3Dsnaps.0000000000.t001.nc\")"
   ],
   "metadata": {
    "collapsed": false,
    "ExecuteTime": {
     "end_time": "2025-07-31T13:39:46.665540Z",
     "start_time": "2025-07-31T13:39:46.154656Z"
    }
   },
   "id": "e165166be4c42254",
   "execution_count": 2
  },
  {
   "cell_type": "code",
   "outputs": [],
   "source": [],
   "metadata": {
    "collapsed": false
   },
   "id": "1fc9525afc6e2d17"
  }
 ],
 "metadata": {
  "kernelspec": {
   "display_name": "Python 3",
   "language": "python",
   "name": "python3"
  },
  "language_info": {
   "codemirror_mode": {
    "name": "ipython",
    "version": 2
   },
   "file_extension": ".py",
   "mimetype": "text/x-python",
   "name": "python",
   "nbconvert_exporter": "python",
   "pygments_lexer": "ipython2",
   "version": "2.7.6"
  }
 },
 "nbformat": 4,
 "nbformat_minor": 5
}
