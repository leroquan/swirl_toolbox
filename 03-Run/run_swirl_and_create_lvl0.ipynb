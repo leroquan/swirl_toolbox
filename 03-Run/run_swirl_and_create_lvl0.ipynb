{
 "cells": [
  {
   "cell_type": "code",
   "outputs": [
    {
     "data": {
      "text/plain": "<dask.config.set at 0x7fdeaa693390>"
     },
     "execution_count": 1,
     "metadata": {},
     "output_type": "execute_result"
    }
   ],
   "source": [
    "import pandas as pd\n",
    "import os\n",
    "import time\n",
    "\n",
    "import xmitgcm as xm\n",
    "import swirl\n",
    "\n",
    "import dask\n",
    "from dask import delayed, compute\n",
    "dask.config.set(scheduler='processes', num_workers=20)"
   ],
   "metadata": {
    "collapsed": false,
    "ExecuteTime": {
     "end_time": "2025-07-29T07:37:27.795011Z",
     "start_time": "2025-07-29T07:37:26.644276Z"
    }
   },
   "id": "ec24cd73377cd747",
   "execution_count": 1
  },
  {
   "cell_type": "code",
   "outputs": [],
   "source": [
    "datapath = r\"/storage/alplakes_test/geneva_200m/run/\"\n",
    "gridpath = r\"/storage/alplakes_test/geneva_200m/metadata/\"\n",
    "ref_date = \"2023-03-01 0:0:0\"\n",
    "dt_mitgcm_results = 32\n",
    "endian = '>'\n",
    "swirl_params_file_name = 'swirl_03'\n",
    "model = 'geneva_200m'\n",
    "output_folder = r'./'"
   ],
   "metadata": {
    "collapsed": false,
    "ExecuteTime": {
     "end_time": "2025-07-29T07:37:27.800726Z",
     "start_time": "2025-07-29T07:37:27.796952Z"
    }
   },
   "id": "2cb2e0175464bc52",
   "execution_count": 2
  },
  {
   "cell_type": "code",
   "outputs": [],
   "source": [
    "def run_swirl(u_plot, v_plot, dx, dy, swirl_params_file):\n",
    "    vortices = swirl.Identification(v=[u_plot, v_plot],\n",
    "                                    grid_dx=[dx, dy],\n",
    "                                    param_file=f'./swirl_params/{swirl_params_file}.param',\n",
    "                                    verbose=False)\n",
    "    vortices.run()\n",
    "    return vortices"
   ],
   "metadata": {
    "collapsed": false,
    "ExecuteTime": {
     "end_time": "2025-07-29T07:37:31.047463Z",
     "start_time": "2025-07-29T07:37:31.042114Z"
    }
   },
   "id": "2b71e3c403215321",
   "execution_count": 3
  },
  {
   "cell_type": "code",
   "outputs": [],
   "source": [
    "# Extract and compute numpy arrays BEFORE passing to dask (improves reading data time)\n",
    "def load_input_data(ds_mitgcm, time_indices, depth_indices):\n",
    "    dx = ds_mitgcm.dxC.values[0][0]\n",
    "    dy = ds_mitgcm.dyC.values[0][0]\n",
    "    dz = ds_mitgcm.drC.values\n",
    "    uvel_data = ds_mitgcm['UVEL'].isel(time=time_indices, Z=depth_indices).fillna(0).values\n",
    "    vvel_data = ds_mitgcm['VVEL'].isel(time=time_indices, Z=depth_indices).fillna(0).values\n",
    "    wvel_data = ds_mitgcm['WVEL'].isel(time=time_indices, Zl=depth_indices).fillna(0).values\n",
    "\n",
    "    return dx, dy, dz, uvel_data, vvel_data, wvel_data"
   ],
   "metadata": {
    "collapsed": false,
    "ExecuteTime": {
     "end_time": "2025-07-29T07:37:31.404009Z",
     "start_time": "2025-07-29T07:37:31.395573Z"
    }
   },
   "id": "99550c6e564c37f3",
   "execution_count": 4
  },
  {
   "cell_type": "code",
   "outputs": [],
   "source": [
    "def compute_ke_snapshot(uvel, vvel, wvel, dx, dy, dz):\n",
    "    ke = 0.5 * (uvel ** 2 + vvel ** 2 + wvel ** 2) * dx * dy * dz  # This gives J per cell\n",
    "\n",
    "    return ke / 1e6  # Convert to MJ"
   ],
   "metadata": {
    "collapsed": false,
    "ExecuteTime": {
     "end_time": "2025-07-29T07:37:31.988539Z",
     "start_time": "2025-07-29T07:37:31.982347Z"
    }
   },
   "id": "c38f8ec4b61ebf23",
   "execution_count": 5
  },
  {
   "cell_type": "code",
   "outputs": [],
   "source": [
    "def translate_rotation_direction(eddy_orientation: int):\n",
    "    return 'clockwise' if eddy_orientation == -1 else 'anticlockwise'"
   ],
   "metadata": {
    "collapsed": false,
    "ExecuteTime": {
     "end_time": "2025-07-29T07:37:32.540508Z",
     "start_time": "2025-07-29T07:37:32.535148Z"
    }
   },
   "id": "717746399b3d737",
   "execution_count": 6
  },
  {
   "cell_type": "code",
   "outputs": [],
   "source": [
    "# Helper function to extract eddy info into a row\n",
    "def extract_eddy_data(id_level0, indices_eddy, eddy, date, depth, dz, ke_grid_megajoules, surface_cell):\n",
    "    vortex_indices = tuple(eddy.vortex_cells.astype(int))\n",
    "    ke_eddy = ke_grid_megajoules[vortex_indices[0], vortex_indices[1]].sum()\n",
    "    surface_area = len(eddy.vortex_cells[0]) * surface_cell\n",
    "\n",
    "    return {\n",
    "        'id': id_level0,\n",
    "        'time_index': indices_eddy[0],\n",
    "        'depth_index': indices_eddy[1],\n",
    "        'eddy_index': indices_eddy[2],\n",
    "        'date': date,\n",
    "        'depth_[m]': depth,\n",
    "        'xc': eddy.center[0],\n",
    "        'yc': eddy.center[1],\n",
    "        'surface_area_[m2]': float(surface_area),\n",
    "        'volume_slice_[m3]': float(surface_area * dz),\n",
    "        'rotation_direction': translate_rotation_direction(eddy.orientation),\n",
    "        'kinetic_energy_[MJ]': float(ke_eddy),\n",
    "        'i_eddy_cells': eddy.vortex_cells[0],\n",
    "        'j_eddy_cells': eddy.vortex_cells[1]\n",
    "    }"
   ],
   "metadata": {
    "collapsed": false,
    "ExecuteTime": {
     "end_time": "2025-07-29T07:59:25.834064Z",
     "start_time": "2025-07-29T07:59:25.823844Z"
    }
   },
   "id": "f052c7182647796f",
   "execution_count": 13
  },
  {
   "cell_type": "code",
   "outputs": [],
   "source": [
    "def run_swirl_and_create_lvl0(uvel, vvel, wvel, dx, dy, dz, swirl_params_file, id_level0, date, depth, t_index, d_index):\n",
    "    eddies = run_swirl(uvel, vvel, dx, dy, swirl_params_file)\n",
    "    if not eddies:  # empty list\n",
    "        return pd.DataFrame()  # optionally: return with predefined columns\n",
    "    \n",
    "    ke_grid = compute_ke_snapshot(uvel, vvel, wvel, dx, dy, dz)\n",
    "    eddy_rows = []\n",
    "    for eddy_index in range(len(eddies)):\n",
    "        indices_eddy = (t_index, d_index, eddy_index)\n",
    "        row_data = extract_eddy_data(id_level0, indices_eddy, eddies[eddy_index], date, depth, dz, ke_grid, dx*dy)\n",
    "        eddy_rows.append(row_data)\n",
    "\n",
    "    return pd.concat([pd.DataFrame([row]) for row in eddy_rows], ignore_index=True)"
   ],
   "metadata": {
    "collapsed": false,
    "ExecuteTime": {
     "end_time": "2025-07-29T08:15:47.993571Z",
     "start_time": "2025-07-29T08:15:47.986437Z"
    }
   },
   "id": "a12b7fd940db6e34",
   "execution_count": 18
  },
  {
   "cell_type": "code",
   "outputs": [],
   "source": [
    "def main():\n",
    "    #---------------------------------\n",
    "    print('Opening MITgcm results...')\n",
    "    ds_mitgcm = xm.open_mdsdataset(\n",
    "        datapath,\n",
    "        grid_dir=gridpath,\n",
    "        ref_date=ref_date,\n",
    "        prefix='3Dsnaps',\n",
    "        delta_t=dt_mitgcm_results,\n",
    "        endian=endian)\n",
    "\n",
    "\n",
    "    # ---------------------------------\n",
    "    print('Detecting eddies and creating level 0 catalogue...')\n",
    "    depth_indices = range(len(ds_mitgcm.Z.values))\n",
    "    time_indices = range(24)\n",
    "\n",
    "    start_opening_data = time.time()\n",
    "    dx, dy, dz_array, uvel_data, vvel_data, wvel_data = load_input_data(ds_mitgcm, time_indices, depth_indices)\n",
    "    print(f\"Swirl opening data time: {time.time() - start_opening_data:.6f} seconds\")\n",
    "\n",
    "    tasks = {}\n",
    "    for ti, t_idx in enumerate(time_indices):\n",
    "        date = pd.Timestamp(ds_mitgcm.time.values[ti]).to_pydatetime()\n",
    "        for di, d_idx in enumerate(depth_indices):\n",
    "            depth = float(ds_mitgcm.Z.values[di])\n",
    "            dz = dz_array[di]\n",
    "            uvel = uvel_data[ti, di].T\n",
    "            vvel = vvel_data[ti, di].T\n",
    "            wvel = wvel_data[ti, di].T\n",
    "            tasks[(t_idx, d_idx)] = delayed(run_swirl_and_create_lvl0)(uvel, vvel, wvel, dx, dy, dz, swirl_params_file_name, 0, date, depth, ti, di)\n",
    "\n",
    "    # Compute all tasks in parallel\n",
    "    start = time.time()\n",
    "    results = compute(*tasks.values())\n",
    "    print(f\"Parallel execution time: {time.time() - start:.6f} seconds\")\n",
    "\n",
    "    # Create final DataFrame\n",
    "    df_catalogue_level0 = pd.concat([row for row in results], ignore_index=True)\n",
    "\n",
    "    lvl0_output_filename = f'{model}_{swirl_params_file_name}_day{ds_mitgcm.time.values[0]}_lvl0.csv'\n",
    "    output_path = os.path.join(output_folder, lvl0_output_filename)\n",
    "\n",
    "    # ---------------------------------\n",
    "    print(f'Saving catalogue level 0 to {output_path}...')\n",
    "    df_catalogue_level0.to_csv(output_path, index=False)"
   ],
   "metadata": {
    "collapsed": false,
    "ExecuteTime": {
     "end_time": "2025-07-29T08:32:41.482199Z",
     "start_time": "2025-07-29T08:32:41.463889Z"
    }
   },
   "id": "621f21586137147e",
   "execution_count": 23
  },
  {
   "cell_type": "code",
   "outputs": [
    {
     "name": "stdout",
     "output_type": "stream",
     "text": [
      "Opening MITgcm results...\n",
      "Detecting eddies and creating level 0 catalogue...\n"
     ]
    },
    {
     "name": "stderr",
     "output_type": "stream",
     "text": [
      "Process SpawnProcess-196:\n",
      "Process SpawnProcess-195:\n",
      "Traceback (most recent call last):\n",
      "Traceback (most recent call last):\n",
      "  File \"/home/leroquan@eawag.wroot.emp-eaw.ch/miniconda3/envs/swirl_toolbox/lib/python3.11/multiprocessing/process.py\", line 314, in _bootstrap\n",
      "    self.run()\n",
      "  File \"/home/leroquan@eawag.wroot.emp-eaw.ch/miniconda3/envs/swirl_toolbox/lib/python3.11/multiprocessing/process.py\", line 108, in run\n",
      "    self._target(*self._args, **self._kwargs)\n",
      "  File \"/home/leroquan@eawag.wroot.emp-eaw.ch/miniconda3/envs/swirl_toolbox/lib/python3.11/concurrent/futures/process.py\", line 249, in _process_worker\n",
      "    call_item = call_queue.get(block=True)\n",
      "                ^^^^^^^^^^^^^^^^^^^^^^^^^^\n",
      "  File \"/home/leroquan@eawag.wroot.emp-eaw.ch/miniconda3/envs/swirl_toolbox/lib/python3.11/multiprocessing/queues.py\", line 102, in get\n",
      "    with self._rlock:\n",
      "  File \"/home/leroquan@eawag.wroot.emp-eaw.ch/miniconda3/envs/swirl_toolbox/lib/python3.11/multiprocessing/synchronize.py\", line 95, in __enter__\n",
      "    return self._semlock.__enter__()\n",
      "           ^^^^^^^^^^^^^^^^^^^^^^^^^\n",
      "  File \"/home/leroquan@eawag.wroot.emp-eaw.ch/miniconda3/envs/swirl_toolbox/lib/python3.11/multiprocessing/process.py\", line 314, in _bootstrap\n",
      "    self.run()\n",
      "KeyboardInterrupt\n",
      "  File \"/home/leroquan@eawag.wroot.emp-eaw.ch/miniconda3/envs/swirl_toolbox/lib/python3.11/multiprocessing/process.py\", line 108, in run\n",
      "    self._target(*self._args, **self._kwargs)\n",
      "  File \"/home/leroquan@eawag.wroot.emp-eaw.ch/miniconda3/envs/swirl_toolbox/lib/python3.11/concurrent/futures/process.py\", line 249, in _process_worker\n",
      "    call_item = call_queue.get(block=True)\n",
      "                ^^^^^^^^^^^^^^^^^^^^^^^^^^\n",
      "  File \"/home/leroquan@eawag.wroot.emp-eaw.ch/miniconda3/envs/swirl_toolbox/lib/python3.11/multiprocessing/queues.py\", line 103, in get\n",
      "    res = self._recv_bytes()\n",
      "          ^^^^^^^^^^^^^^^^^^\n",
      "  File \"/home/leroquan@eawag.wroot.emp-eaw.ch/miniconda3/envs/swirl_toolbox/lib/python3.11/multiprocessing/connection.py\", line 216, in recv_bytes\n",
      "    buf = self._recv_bytes(maxlength)\n",
      "          ^^^^^^^^^^^^^^^^^^^^^^^^^^^\n",
      "  File \"/home/leroquan@eawag.wroot.emp-eaw.ch/miniconda3/envs/swirl_toolbox/lib/python3.11/multiprocessing/connection.py\", line 430, in _recv_bytes\n",
      "    buf = self._recv(4)\n",
      "          ^^^^^^^^^^^^^\n",
      "  File \"/home/leroquan@eawag.wroot.emp-eaw.ch/miniconda3/envs/swirl_toolbox/lib/python3.11/multiprocessing/connection.py\", line 395, in _recv\n",
      "    chunk = read(handle, remaining)\n",
      "            ^^^^^^^^^^^^^^^^^^^^^^^\n",
      "KeyboardInterrupt\n"
     ]
    },
    {
     "ename": "KeyboardInterrupt",
     "evalue": "",
     "output_type": "error",
     "traceback": [
      "\u001B[31m---------------------------------------------------------------------------\u001B[39m",
      "\u001B[31mKeyboardInterrupt\u001B[39m                         Traceback (most recent call last)",
      "\u001B[36mCell\u001B[39m\u001B[36m \u001B[39m\u001B[32mIn[24]\u001B[39m\u001B[32m, line 4\u001B[39m\n\u001B[32m      2\u001B[39m \u001B[38;5;28;01mfrom\u001B[39;00m\u001B[38;5;250m \u001B[39m\u001B[34;01mmultiprocessing\u001B[39;00m\u001B[38;5;250m \u001B[39m\u001B[38;5;28;01mimport\u001B[39;00m freeze_support\n\u001B[32m      3\u001B[39m freeze_support()  \u001B[38;5;66;03m# optional on Linux/macOS\u001B[39;00m\n\u001B[32m----> \u001B[39m\u001B[32m4\u001B[39m \u001B[43mmain\u001B[49m\u001B[43m(\u001B[49m\u001B[43m)\u001B[49m\n",
      "\u001B[36mCell\u001B[39m\u001B[36m \u001B[39m\u001B[32mIn[23]\u001B[39m\u001B[32m, line 19\u001B[39m, in \u001B[36mmain\u001B[39m\u001B[34m()\u001B[39m\n\u001B[32m     16\u001B[39m time_indices = \u001B[38;5;28mrange\u001B[39m(\u001B[32m24\u001B[39m)\n\u001B[32m     18\u001B[39m start_opening_data = time.time()\n\u001B[32m---> \u001B[39m\u001B[32m19\u001B[39m dx, dy, dz_array, uvel_data, vvel_data, wvel_data = \u001B[43mload_input_data\u001B[49m\u001B[43m(\u001B[49m\u001B[43mds_mitgcm\u001B[49m\u001B[43m,\u001B[49m\u001B[43m \u001B[49m\u001B[43mtime_indices\u001B[49m\u001B[43m,\u001B[49m\u001B[43m \u001B[49m\u001B[43mdepth_indices\u001B[49m\u001B[43m)\u001B[49m\n\u001B[32m     20\u001B[39m \u001B[38;5;28mprint\u001B[39m(\u001B[33mf\u001B[39m\u001B[33m\"\u001B[39m\u001B[33mSwirl opening data time: \u001B[39m\u001B[38;5;132;01m{\u001B[39;00mtime.time()\u001B[38;5;250m \u001B[39m-\u001B[38;5;250m \u001B[39mstart_opening_data\u001B[38;5;132;01m:\u001B[39;00m\u001B[33m.6f\u001B[39m\u001B[38;5;132;01m}\u001B[39;00m\u001B[33m seconds\u001B[39m\u001B[33m\"\u001B[39m)\n\u001B[32m     22\u001B[39m tasks = {}\n",
      "\u001B[36mCell\u001B[39m\u001B[36m \u001B[39m\u001B[32mIn[4]\u001B[39m\u001B[32m, line 7\u001B[39m, in \u001B[36mload_input_data\u001B[39m\u001B[34m(ds_mitgcm, time_indices, depth_indices)\u001B[39m\n\u001B[32m      5\u001B[39m dz = ds_mitgcm.drC.values\n\u001B[32m      6\u001B[39m uvel_data = ds_mitgcm[\u001B[33m'\u001B[39m\u001B[33mUVEL\u001B[39m\u001B[33m'\u001B[39m].isel(time=time_indices, Z=depth_indices).fillna(\u001B[32m0\u001B[39m).values\n\u001B[32m----> \u001B[39m\u001B[32m7\u001B[39m vvel_data = \u001B[43mds_mitgcm\u001B[49m\u001B[43m[\u001B[49m\u001B[33;43m'\u001B[39;49m\u001B[33;43mVVEL\u001B[39;49m\u001B[33;43m'\u001B[39;49m\u001B[43m]\u001B[49m\u001B[43m.\u001B[49m\u001B[43misel\u001B[49m\u001B[43m(\u001B[49m\u001B[43mtime\u001B[49m\u001B[43m=\u001B[49m\u001B[43mtime_indices\u001B[49m\u001B[43m,\u001B[49m\u001B[43m \u001B[49m\u001B[43mZ\u001B[49m\u001B[43m=\u001B[49m\u001B[43mdepth_indices\u001B[49m\u001B[43m)\u001B[49m\u001B[43m.\u001B[49m\u001B[43mfillna\u001B[49m\u001B[43m(\u001B[49m\u001B[32;43m0\u001B[39;49m\u001B[43m)\u001B[49m\u001B[43m.\u001B[49m\u001B[43mvalues\u001B[49m\n\u001B[32m      8\u001B[39m wvel_data = ds_mitgcm[\u001B[33m'\u001B[39m\u001B[33mWVEL\u001B[39m\u001B[33m'\u001B[39m].isel(time=time_indices, Zl=depth_indices).fillna(\u001B[32m0\u001B[39m).values\n\u001B[32m     10\u001B[39m \u001B[38;5;28;01mreturn\u001B[39;00m dx, dy, dz, uvel_data, vvel_data, wvel_data\n",
      "\u001B[36mFile \u001B[39m\u001B[32m~/miniconda3/envs/swirl_toolbox/lib/python3.11/site-packages/xarray/core/dataarray.py:815\u001B[39m, in \u001B[36mDataArray.values\u001B[39m\u001B[34m(self)\u001B[39m\n\u001B[32m    802\u001B[39m \u001B[38;5;129m@property\u001B[39m\n\u001B[32m    803\u001B[39m \u001B[38;5;28;01mdef\u001B[39;00m\u001B[38;5;250m \u001B[39m\u001B[34mvalues\u001B[39m(\u001B[38;5;28mself\u001B[39m) -> np.ndarray:\n\u001B[32m    804\u001B[39m \u001B[38;5;250m    \u001B[39m\u001B[33;03m\"\"\"\u001B[39;00m\n\u001B[32m    805\u001B[39m \u001B[33;03m    The array's data converted to numpy.ndarray.\u001B[39;00m\n\u001B[32m    806\u001B[39m \n\u001B[32m   (...)\u001B[39m\u001B[32m    813\u001B[39m \u001B[33;03m    to this array may be reflected in the DataArray as well.\u001B[39;00m\n\u001B[32m    814\u001B[39m \u001B[33;03m    \"\"\"\u001B[39;00m\n\u001B[32m--> \u001B[39m\u001B[32m815\u001B[39m     \u001B[38;5;28;01mreturn\u001B[39;00m \u001B[38;5;28;43mself\u001B[39;49m\u001B[43m.\u001B[49m\u001B[43mvariable\u001B[49m\u001B[43m.\u001B[49m\u001B[43mvalues\u001B[49m\n",
      "\u001B[36mFile \u001B[39m\u001B[32m~/miniconda3/envs/swirl_toolbox/lib/python3.11/site-packages/xarray/core/variable.py:516\u001B[39m, in \u001B[36mVariable.values\u001B[39m\u001B[34m(self)\u001B[39m\n\u001B[32m    513\u001B[39m \u001B[38;5;129m@property\u001B[39m\n\u001B[32m    514\u001B[39m \u001B[38;5;28;01mdef\u001B[39;00m\u001B[38;5;250m \u001B[39m\u001B[34mvalues\u001B[39m(\u001B[38;5;28mself\u001B[39m) -> np.ndarray:\n\u001B[32m    515\u001B[39m \u001B[38;5;250m    \u001B[39m\u001B[33;03m\"\"\"The variable's data as a numpy.ndarray\"\"\"\u001B[39;00m\n\u001B[32m--> \u001B[39m\u001B[32m516\u001B[39m     \u001B[38;5;28;01mreturn\u001B[39;00m \u001B[43m_as_array_or_item\u001B[49m\u001B[43m(\u001B[49m\u001B[38;5;28;43mself\u001B[39;49m\u001B[43m.\u001B[49m\u001B[43m_data\u001B[49m\u001B[43m)\u001B[49m\n",
      "\u001B[36mFile \u001B[39m\u001B[32m~/miniconda3/envs/swirl_toolbox/lib/python3.11/site-packages/xarray/core/variable.py:302\u001B[39m, in \u001B[36m_as_array_or_item\u001B[39m\u001B[34m(data)\u001B[39m\n\u001B[32m    288\u001B[39m \u001B[38;5;28;01mdef\u001B[39;00m\u001B[38;5;250m \u001B[39m\u001B[34m_as_array_or_item\u001B[39m(data):\n\u001B[32m    289\u001B[39m \u001B[38;5;250m    \u001B[39m\u001B[33;03m\"\"\"Return the given values as a numpy array, or as an individual item if\u001B[39;00m\n\u001B[32m    290\u001B[39m \u001B[33;03m    it's a 0d datetime64 or timedelta64 array.\u001B[39;00m\n\u001B[32m    291\u001B[39m \n\u001B[32m   (...)\u001B[39m\u001B[32m    300\u001B[39m \u001B[33;03m    TODO: remove this (replace with np.asarray) once these issues are fixed\u001B[39;00m\n\u001B[32m    301\u001B[39m \u001B[33;03m    \"\"\"\u001B[39;00m\n\u001B[32m--> \u001B[39m\u001B[32m302\u001B[39m     data = np.asarray(data)\n\u001B[32m    303\u001B[39m     \u001B[38;5;28;01mif\u001B[39;00m data.ndim == \u001B[32m0\u001B[39m:\n\u001B[32m    304\u001B[39m         kind = data.dtype.kind\n",
      "\u001B[36mFile \u001B[39m\u001B[32m~/miniconda3/envs/swirl_toolbox/lib/python3.11/site-packages/dask/array/core.py:1729\u001B[39m, in \u001B[36mArray.__array__\u001B[39m\u001B[34m(self, dtype, copy, **kwargs)\u001B[39m\n\u001B[32m   1722\u001B[39m \u001B[38;5;28;01mif\u001B[39;00m copy \u001B[38;5;129;01mis\u001B[39;00m \u001B[38;5;28;01mFalse\u001B[39;00m:\n\u001B[32m   1723\u001B[39m     warnings.warn(\n\u001B[32m   1724\u001B[39m         \u001B[33m\"\u001B[39m\u001B[33mCan\u001B[39m\u001B[33m'\u001B[39m\u001B[33mt acquire a memory view of a Dask array. \u001B[39m\u001B[33m\"\u001B[39m\n\u001B[32m   1725\u001B[39m         \u001B[33m\"\u001B[39m\u001B[33mThis will raise in the future.\u001B[39m\u001B[33m\"\u001B[39m,\n\u001B[32m   1726\u001B[39m         \u001B[38;5;167;01mFutureWarning\u001B[39;00m,\n\u001B[32m   1727\u001B[39m     )\n\u001B[32m-> \u001B[39m\u001B[32m1729\u001B[39m x = \u001B[38;5;28;43mself\u001B[39;49m\u001B[43m.\u001B[49m\u001B[43mcompute\u001B[49m\u001B[43m(\u001B[49m\u001B[43m)\u001B[49m\n\u001B[32m   1731\u001B[39m \u001B[38;5;66;03m# Apply requested dtype and convert non-numpy backends to numpy.\u001B[39;00m\n\u001B[32m   1732\u001B[39m \u001B[38;5;66;03m# If copy is True, numpy is going to perform its own deep copy\u001B[39;00m\n\u001B[32m   1733\u001B[39m \u001B[38;5;66;03m# after this method returns.\u001B[39;00m\n\u001B[32m   1734\u001B[39m \u001B[38;5;66;03m# If copy is None, finalize() ensures that the returned object\u001B[39;00m\n\u001B[32m   1735\u001B[39m \u001B[38;5;66;03m# does not share memory with an object stored in the graph or on a\u001B[39;00m\n\u001B[32m   1736\u001B[39m \u001B[38;5;66;03m# process-local Worker.\u001B[39;00m\n\u001B[32m   1737\u001B[39m \u001B[38;5;28;01mreturn\u001B[39;00m np.asarray(x, dtype=dtype)\n",
      "\u001B[36mFile \u001B[39m\u001B[32m~/miniconda3/envs/swirl_toolbox/lib/python3.11/site-packages/dask/base.py:373\u001B[39m, in \u001B[36mDaskMethodsMixin.compute\u001B[39m\u001B[34m(self, **kwargs)\u001B[39m\n\u001B[32m    349\u001B[39m \u001B[38;5;28;01mdef\u001B[39;00m\u001B[38;5;250m \u001B[39m\u001B[34mcompute\u001B[39m(\u001B[38;5;28mself\u001B[39m, **kwargs):\n\u001B[32m    350\u001B[39m \u001B[38;5;250m    \u001B[39m\u001B[33;03m\"\"\"Compute this dask collection\u001B[39;00m\n\u001B[32m    351\u001B[39m \n\u001B[32m    352\u001B[39m \u001B[33;03m    This turns a lazy Dask collection into its in-memory equivalent.\u001B[39;00m\n\u001B[32m   (...)\u001B[39m\u001B[32m    371\u001B[39m \u001B[33;03m    dask.compute\u001B[39;00m\n\u001B[32m    372\u001B[39m \u001B[33;03m    \"\"\"\u001B[39;00m\n\u001B[32m--> \u001B[39m\u001B[32m373\u001B[39m     (result,) = \u001B[43mcompute\u001B[49m\u001B[43m(\u001B[49m\u001B[38;5;28;43mself\u001B[39;49m\u001B[43m,\u001B[49m\u001B[43m \u001B[49m\u001B[43mtraverse\u001B[49m\u001B[43m=\u001B[49m\u001B[38;5;28;43;01mFalse\u001B[39;49;00m\u001B[43m,\u001B[49m\u001B[43m \u001B[49m\u001B[43m*\u001B[49m\u001B[43m*\u001B[49m\u001B[43mkwargs\u001B[49m\u001B[43m)\u001B[49m\n\u001B[32m    374\u001B[39m     \u001B[38;5;28;01mreturn\u001B[39;00m result\n",
      "\u001B[36mFile \u001B[39m\u001B[32m~/miniconda3/envs/swirl_toolbox/lib/python3.11/site-packages/dask/base.py:681\u001B[39m, in \u001B[36mcompute\u001B[39m\u001B[34m(traverse, optimize_graph, scheduler, get, *args, **kwargs)\u001B[39m\n\u001B[32m    678\u001B[39m     expr = expr.optimize()\n\u001B[32m    679\u001B[39m     keys = \u001B[38;5;28mlist\u001B[39m(flatten(expr.__dask_keys__()))\n\u001B[32m--> \u001B[39m\u001B[32m681\u001B[39m     results = \u001B[43mschedule\u001B[49m\u001B[43m(\u001B[49m\u001B[43mexpr\u001B[49m\u001B[43m,\u001B[49m\u001B[43m \u001B[49m\u001B[43mkeys\u001B[49m\u001B[43m,\u001B[49m\u001B[43m \u001B[49m\u001B[43m*\u001B[49m\u001B[43m*\u001B[49m\u001B[43mkwargs\u001B[49m\u001B[43m)\u001B[49m\n\u001B[32m    683\u001B[39m \u001B[38;5;28;01mreturn\u001B[39;00m repack(results)\n",
      "\u001B[36mFile \u001B[39m\u001B[32m~/miniconda3/envs/swirl_toolbox/lib/python3.11/site-packages/numpy/_core/numeric.py:1957\u001B[39m, in \u001B[36m_frombuffer\u001B[39m\u001B[34m(buf, dtype, shape, order, axis_order)\u001B[39m\n\u001B[32m   1951\u001B[39m     \u001B[38;5;28;01mreturn\u001B[39;00m function(*args, **kwargs)\n\u001B[32m   1954\u001B[39m _fromfunction_with_like = array_function_dispatch()(fromfunction)\n\u001B[32m-> \u001B[39m\u001B[32m1957\u001B[39m \u001B[38;5;28;01mdef\u001B[39;00m\u001B[38;5;250m \u001B[39m\u001B[34m_frombuffer\u001B[39m(buf, dtype, shape, order, axis_order=\u001B[38;5;28;01mNone\u001B[39;00m):\n\u001B[32m   1958\u001B[39m     array = frombuffer(buf, dtype=dtype)\n\u001B[32m   1959\u001B[39m     \u001B[38;5;28;01mif\u001B[39;00m order == \u001B[33m'\u001B[39m\u001B[33mK\u001B[39m\u001B[33m'\u001B[39m \u001B[38;5;129;01mand\u001B[39;00m axis_order \u001B[38;5;129;01mis\u001B[39;00m \u001B[38;5;129;01mnot\u001B[39;00m \u001B[38;5;28;01mNone\u001B[39;00m:\n",
      "\u001B[31mKeyboardInterrupt\u001B[39m: "
     ]
    }
   ],
   "source": [
    "if __name__ == \"__main__\":\n",
    "    from multiprocessing import freeze_support\n",
    "    freeze_support()  # optional on Linux/macOS\n",
    "    main()"
   ],
   "metadata": {
    "collapsed": false,
    "ExecuteTime": {
     "end_time": "2025-07-29T08:33:22.737033Z",
     "start_time": "2025-07-29T08:32:41.981383Z"
    }
   },
   "id": "92f7d89115ce0fe9",
   "execution_count": 24
  },
  {
   "cell_type": "code",
   "outputs": [
    {
     "name": "stdout",
     "output_type": "stream",
     "text": [
      "Opening MITgcm results...\n",
      "Detecting eddies and creating level 0 catalogue...\n",
      "Swirl opening data time: 7.708533 seconds\n",
      "Parallel execution time: 2.364203 seconds\n",
      "Saving catalogue level 0 to ./geneva_200m_swirl_03_day2023-07-01T12:00:00.000000000_lvl0.csv...\n"
     ]
    }
   ],
   "source": [
    "#---------------------------------\n",
    "print('Opening MITgcm results...')\n",
    "ds_mitgcm = xm.open_mdsdataset(\n",
    "    datapath,\n",
    "    grid_dir=gridpath,\n",
    "    ref_date=ref_date,\n",
    "    prefix='3Dsnaps',\n",
    "    delta_t=dt_mitgcm_results,\n",
    "    endian=endian)\n",
    "\n",
    "\n",
    "# ---------------------------------\n",
    "print('Detecting eddies and creating level 0 catalogue...')\n",
    "depth_indices = range(2)\n",
    "time_indices = range(2)\n",
    "\n",
    "start_opening_data = time.time()\n",
    "dx, dy, dz_array, uvel_data, vvel_data, wvel_data = load_input_data(ds_mitgcm, time_indices, depth_indices)\n",
    "print(f\"Swirl opening data time: {time.time() - start_opening_data:.6f} seconds\")\n",
    "\n",
    "tasks = {}\n",
    "for ti, t_idx in enumerate(time_indices):\n",
    "    date = pd.Timestamp(ds_mitgcm.time.values[ti]).to_pydatetime()\n",
    "    for di, d_idx in enumerate(depth_indices):\n",
    "        depth = float(ds_mitgcm.Z.values[di])\n",
    "        dz = dz_array[di]\n",
    "        uvel = uvel_data[ti, di].T\n",
    "        vvel = vvel_data[ti, di].T\n",
    "        wvel = wvel_data[ti, di].T\n",
    "        tasks[(t_idx, d_idx)] = delayed(run_swirl_and_create_lvl0)(uvel, vvel, wvel, dx, dy, dz, swirl_params_file_name, 0, date, depth, ti, di)\n",
    "\n",
    "# Compute all tasks in parallel\n",
    "start = time.time()\n",
    "results = compute(*tasks.values())\n",
    "print(f\"Parallel execution time: {time.time() - start:.6f} seconds\")\n",
    "\n",
    "# Create final DataFrame\n",
    "df_catalogue_level0 = pd.concat([row for row in results], ignore_index=True)\n",
    "\n",
    "lvl0_output_filename = f'{model}_{swirl_params_file_name}_day{ds_mitgcm.time.values[0]}_lvl0.csv'\n",
    "output_path = os.path.join(output_folder, lvl0_output_filename)\n",
    "\n",
    "# ---------------------------------\n",
    "print(f'Saving catalogue level 0 to {output_path}...')\n",
    "df_catalogue_level0.to_csv(output_path, index=False)"
   ],
   "metadata": {
    "collapsed": false,
    "ExecuteTime": {
     "end_time": "2025-07-29T08:34:11.605082Z",
     "start_time": "2025-07-29T08:33:40.494168Z"
    }
   },
   "id": "9ff987034a5d6dc4",
   "execution_count": 25
  },
  {
   "cell_type": "code",
   "outputs": [
    {
     "data": {
      "text/plain": "    id  time_index  depth_index  eddy_index                date  depth_[m]  \\\n0    0           0            0           0 2023-07-01 12:00:00    -0.2500   \n1    0           0            0           1 2023-07-01 12:00:00    -0.2500   \n2    0           0            0           2 2023-07-01 12:00:00    -0.2500   \n3    0           0            0           3 2023-07-01 12:00:00    -0.2500   \n4    0           0            1           0 2023-07-01 12:00:00    -0.7575   \n5    0           0            1           1 2023-07-01 12:00:00    -0.7575   \n6    0           0            1           2 2023-07-01 12:00:00    -0.7575   \n7    0           0            1           3 2023-07-01 12:00:00    -0.7575   \n8    0           0            1           4 2023-07-01 12:00:00    -0.7575   \n9    0           1            0           0 2023-07-01 12:59:44    -0.2500   \n10   0           1            0           1 2023-07-01 12:59:44    -0.2500   \n11   0           1            0           2 2023-07-01 12:59:44    -0.2500   \n12   0           1            0           3 2023-07-01 12:59:44    -0.2500   \n13   0           1            1           0 2023-07-01 12:59:44    -0.7575   \n14   0           1            1           1 2023-07-01 12:59:44    -0.7575   \n15   0           1            1           2 2023-07-01 12:59:44    -0.7575   \n16   0           1            1           3 2023-07-01 12:59:44    -0.7575   \n17   0           1            1           4 2023-07-01 12:59:44    -0.7575   \n\n            xc         yc  surface_area_[m2]  volume_slice_[m3]  \\\n0   281.334862  44.655963          6040000.0          1510000.0   \n1   256.322785  78.116034          4040000.0          1010000.0   \n2   285.687166  15.275401          2720000.0           680000.0   \n3   223.788452  76.421897         31560000.0          7890000.0   \n4    47.500000  64.200000           160000.0            81200.0   \n5   280.821918  45.278539          6200000.0          3146500.0   \n6   285.747126  15.390805          2720000.0          1380400.0   \n7   256.288235  79.164706          3000000.0          1522500.0   \n8   224.191341  75.592867         32480000.0         16483600.0   \n9   277.872320  46.710526          7880000.0          1970000.0   \n10  288.596447  14.890863          3120000.0           780000.0   \n11  256.702353  80.029412          6160000.0          1540000.0   \n12  219.683274  75.994662         25160000.0          6290000.0   \n13   89.125000  90.062500           280000.0           142100.0   \n14  277.720472  47.259843          7720000.0          3917900.0   \n15  288.444444  14.625000          3320000.0          1684900.0   \n16  256.547872  80.215426          5320000.0          2699900.0   \n17  219.869708  74.765355         24760000.0         12565700.0   \n\n   rotation_direction  kinetic_energy_[MJ]  \\\n0       anticlockwise             0.002504   \n1           clockwise             0.001366   \n2           clockwise             0.000716   \n3       anticlockwise             0.068371   \n4       anticlockwise             0.000000   \n5       anticlockwise             0.005174   \n6           clockwise             0.001560   \n7           clockwise             0.001549   \n8       anticlockwise             0.138797   \n9       anticlockwise             0.002787   \n10          clockwise             0.000885   \n11          clockwise             0.002784   \n12      anticlockwise             0.038939   \n13      anticlockwise             0.000000   \n14      anticlockwise             0.005243   \n15          clockwise             0.002251   \n16          clockwise             0.003938   \n17      anticlockwise             0.077721   \n\n                                         i_eddy_cells  \\\n0   [274.0, 274.0, 274.0, 274.0, 274.0, 275.0, 275...   \n1   [251.0, 251.0, 251.0, 252.0, 252.0, 252.0, 252...   \n2   [281.0, 281.0, 281.0, 282.0, 282.0, 282.0, 282...   \n3   [205.0, 205.0, 205.0, 205.0, 206.0, 206.0, 206...   \n4                            [47.0, 47.0, 48.0, 48.0]   \n5   [273.0, 273.0, 273.0, 274.0, 274.0, 274.0, 274...   \n6   [281.0, 281.0, 282.0, 282.0, 282.0, 282.0, 282...   \n7   [252.0, 252.0, 252.0, 253.0, 253.0, 253.0, 253...   \n8   [205.0, 205.0, 205.0, 206.0, 206.0, 206.0, 206...   \n9   [269.0, 269.0, 270.0, 270.0, 270.0, 270.0, 271...   \n10  [283.0, 283.0, 284.0, 284.0, 284.0, 284.0, 285...   \n11  [249.0, 249.0, 249.0, 250.0, 250.0, 250.0, 250...   \n12  [203.0, 204.0, 204.0, 204.0, 205.0, 205.0, 205...   \n13         [88.0, 88.0, 88.0, 89.0, 89.0, 89.0, 90.0]   \n14  [269.0, 269.0, 269.0, 270.0, 270.0, 270.0, 271...   \n15  [283.0, 283.0, 284.0, 284.0, 284.0, 284.0, 285...   \n16  [250.0, 250.0, 250.0, 251.0, 251.0, 251.0, 251...   \n17  [204.0, 204.0, 204.0, 205.0, 205.0, 205.0, 205...   \n\n                                         j_eddy_cells  \n0   [42.0, 44.0, 46.0, 47.0, 48.0, 41.0, 43.0, 44....  \n1   [74.0, 75.0, 82.0, 73.0, 74.0, 75.0, 76.0, 78....  \n2   [15.0, 16.0, 17.0, 14.0, 15.0, 16.0, 17.0, 18....  \n3   [74.0, 75.0, 77.0, 79.0, 70.0, 71.0, 72.0, 73....  \n4                            [63.0, 64.0, 64.0, 65.0]  \n5   [43.0, 46.0, 48.0, 42.0, 43.0, 44.0, 46.0, 47....  \n6   [15.0, 16.0, 13.0, 14.0, 15.0, 16.0, 17.0, 18....  \n7   [76.0, 77.0, 80.0, 75.0, 76.0, 77.0, 78.0, 79....  \n8   [74.0, 75.0, 77.0, 70.0, 71.0, 72.0, 73.0, 74....  \n9   [49.0, 50.0, 48.0, 49.0, 50.0, 51.0, 41.0, 42....  \n10  [14.0, 17.0, 12.0, 14.0, 16.0, 17.0, 13.0, 14....  \n11  [80.0, 82.0, 83.0, 75.0, 76.0, 77.0, 79.0, 81....  \n12  [74.0, 71.0, 72.0, 74.0, 72.0, 74.0, 80.0, 81....  \n13         [89.0, 90.0, 91.0, 89.0, 90.0, 91.0, 89.0]  \n14  [44.0, 49.0, 50.0, 49.0, 50.0, 51.0, 41.0, 42....  \n15  [14.0, 17.0, 14.0, 15.0, 16.0, 17.0, 12.0, 13....  \n16  [80.0, 81.0, 84.0, 75.0, 76.0, 77.0, 78.0, 80....  \n17  [71.0, 72.0, 74.0, 69.0, 71.0, 72.0, 74.0, 80....  ",
      "text/html": "<div>\n<style scoped>\n    .dataframe tbody tr th:only-of-type {\n        vertical-align: middle;\n    }\n\n    .dataframe tbody tr th {\n        vertical-align: top;\n    }\n\n    .dataframe thead th {\n        text-align: right;\n    }\n</style>\n<table border=\"1\" class=\"dataframe\">\n  <thead>\n    <tr style=\"text-align: right;\">\n      <th></th>\n      <th>id</th>\n      <th>time_index</th>\n      <th>depth_index</th>\n      <th>eddy_index</th>\n      <th>date</th>\n      <th>depth_[m]</th>\n      <th>xc</th>\n      <th>yc</th>\n      <th>surface_area_[m2]</th>\n      <th>volume_slice_[m3]</th>\n      <th>rotation_direction</th>\n      <th>kinetic_energy_[MJ]</th>\n      <th>i_eddy_cells</th>\n      <th>j_eddy_cells</th>\n    </tr>\n  </thead>\n  <tbody>\n    <tr>\n      <th>0</th>\n      <td>0</td>\n      <td>0</td>\n      <td>0</td>\n      <td>0</td>\n      <td>2023-07-01 12:00:00</td>\n      <td>-0.2500</td>\n      <td>281.334862</td>\n      <td>44.655963</td>\n      <td>6040000.0</td>\n      <td>1510000.0</td>\n      <td>anticlockwise</td>\n      <td>0.002504</td>\n      <td>[274.0, 274.0, 274.0, 274.0, 274.0, 275.0, 275...</td>\n      <td>[42.0, 44.0, 46.0, 47.0, 48.0, 41.0, 43.0, 44....</td>\n    </tr>\n    <tr>\n      <th>1</th>\n      <td>0</td>\n      <td>0</td>\n      <td>0</td>\n      <td>1</td>\n      <td>2023-07-01 12:00:00</td>\n      <td>-0.2500</td>\n      <td>256.322785</td>\n      <td>78.116034</td>\n      <td>4040000.0</td>\n      <td>1010000.0</td>\n      <td>clockwise</td>\n      <td>0.001366</td>\n      <td>[251.0, 251.0, 251.0, 252.0, 252.0, 252.0, 252...</td>\n      <td>[74.0, 75.0, 82.0, 73.0, 74.0, 75.0, 76.0, 78....</td>\n    </tr>\n    <tr>\n      <th>2</th>\n      <td>0</td>\n      <td>0</td>\n      <td>0</td>\n      <td>2</td>\n      <td>2023-07-01 12:00:00</td>\n      <td>-0.2500</td>\n      <td>285.687166</td>\n      <td>15.275401</td>\n      <td>2720000.0</td>\n      <td>680000.0</td>\n      <td>clockwise</td>\n      <td>0.000716</td>\n      <td>[281.0, 281.0, 281.0, 282.0, 282.0, 282.0, 282...</td>\n      <td>[15.0, 16.0, 17.0, 14.0, 15.0, 16.0, 17.0, 18....</td>\n    </tr>\n    <tr>\n      <th>3</th>\n      <td>0</td>\n      <td>0</td>\n      <td>0</td>\n      <td>3</td>\n      <td>2023-07-01 12:00:00</td>\n      <td>-0.2500</td>\n      <td>223.788452</td>\n      <td>76.421897</td>\n      <td>31560000.0</td>\n      <td>7890000.0</td>\n      <td>anticlockwise</td>\n      <td>0.068371</td>\n      <td>[205.0, 205.0, 205.0, 205.0, 206.0, 206.0, 206...</td>\n      <td>[74.0, 75.0, 77.0, 79.0, 70.0, 71.0, 72.0, 73....</td>\n    </tr>\n    <tr>\n      <th>4</th>\n      <td>0</td>\n      <td>0</td>\n      <td>1</td>\n      <td>0</td>\n      <td>2023-07-01 12:00:00</td>\n      <td>-0.7575</td>\n      <td>47.500000</td>\n      <td>64.200000</td>\n      <td>160000.0</td>\n      <td>81200.0</td>\n      <td>anticlockwise</td>\n      <td>0.000000</td>\n      <td>[47.0, 47.0, 48.0, 48.0]</td>\n      <td>[63.0, 64.0, 64.0, 65.0]</td>\n    </tr>\n    <tr>\n      <th>5</th>\n      <td>0</td>\n      <td>0</td>\n      <td>1</td>\n      <td>1</td>\n      <td>2023-07-01 12:00:00</td>\n      <td>-0.7575</td>\n      <td>280.821918</td>\n      <td>45.278539</td>\n      <td>6200000.0</td>\n      <td>3146500.0</td>\n      <td>anticlockwise</td>\n      <td>0.005174</td>\n      <td>[273.0, 273.0, 273.0, 274.0, 274.0, 274.0, 274...</td>\n      <td>[43.0, 46.0, 48.0, 42.0, 43.0, 44.0, 46.0, 47....</td>\n    </tr>\n    <tr>\n      <th>6</th>\n      <td>0</td>\n      <td>0</td>\n      <td>1</td>\n      <td>2</td>\n      <td>2023-07-01 12:00:00</td>\n      <td>-0.7575</td>\n      <td>285.747126</td>\n      <td>15.390805</td>\n      <td>2720000.0</td>\n      <td>1380400.0</td>\n      <td>clockwise</td>\n      <td>0.001560</td>\n      <td>[281.0, 281.0, 282.0, 282.0, 282.0, 282.0, 282...</td>\n      <td>[15.0, 16.0, 13.0, 14.0, 15.0, 16.0, 17.0, 18....</td>\n    </tr>\n    <tr>\n      <th>7</th>\n      <td>0</td>\n      <td>0</td>\n      <td>1</td>\n      <td>3</td>\n      <td>2023-07-01 12:00:00</td>\n      <td>-0.7575</td>\n      <td>256.288235</td>\n      <td>79.164706</td>\n      <td>3000000.0</td>\n      <td>1522500.0</td>\n      <td>clockwise</td>\n      <td>0.001549</td>\n      <td>[252.0, 252.0, 252.0, 253.0, 253.0, 253.0, 253...</td>\n      <td>[76.0, 77.0, 80.0, 75.0, 76.0, 77.0, 78.0, 79....</td>\n    </tr>\n    <tr>\n      <th>8</th>\n      <td>0</td>\n      <td>0</td>\n      <td>1</td>\n      <td>4</td>\n      <td>2023-07-01 12:00:00</td>\n      <td>-0.7575</td>\n      <td>224.191341</td>\n      <td>75.592867</td>\n      <td>32480000.0</td>\n      <td>16483600.0</td>\n      <td>anticlockwise</td>\n      <td>0.138797</td>\n      <td>[205.0, 205.0, 205.0, 206.0, 206.0, 206.0, 206...</td>\n      <td>[74.0, 75.0, 77.0, 70.0, 71.0, 72.0, 73.0, 74....</td>\n    </tr>\n    <tr>\n      <th>9</th>\n      <td>0</td>\n      <td>1</td>\n      <td>0</td>\n      <td>0</td>\n      <td>2023-07-01 12:59:44</td>\n      <td>-0.2500</td>\n      <td>277.872320</td>\n      <td>46.710526</td>\n      <td>7880000.0</td>\n      <td>1970000.0</td>\n      <td>anticlockwise</td>\n      <td>0.002787</td>\n      <td>[269.0, 269.0, 270.0, 270.0, 270.0, 270.0, 271...</td>\n      <td>[49.0, 50.0, 48.0, 49.0, 50.0, 51.0, 41.0, 42....</td>\n    </tr>\n    <tr>\n      <th>10</th>\n      <td>0</td>\n      <td>1</td>\n      <td>0</td>\n      <td>1</td>\n      <td>2023-07-01 12:59:44</td>\n      <td>-0.2500</td>\n      <td>288.596447</td>\n      <td>14.890863</td>\n      <td>3120000.0</td>\n      <td>780000.0</td>\n      <td>clockwise</td>\n      <td>0.000885</td>\n      <td>[283.0, 283.0, 284.0, 284.0, 284.0, 284.0, 285...</td>\n      <td>[14.0, 17.0, 12.0, 14.0, 16.0, 17.0, 13.0, 14....</td>\n    </tr>\n    <tr>\n      <th>11</th>\n      <td>0</td>\n      <td>1</td>\n      <td>0</td>\n      <td>2</td>\n      <td>2023-07-01 12:59:44</td>\n      <td>-0.2500</td>\n      <td>256.702353</td>\n      <td>80.029412</td>\n      <td>6160000.0</td>\n      <td>1540000.0</td>\n      <td>clockwise</td>\n      <td>0.002784</td>\n      <td>[249.0, 249.0, 249.0, 250.0, 250.0, 250.0, 250...</td>\n      <td>[80.0, 82.0, 83.0, 75.0, 76.0, 77.0, 79.0, 81....</td>\n    </tr>\n    <tr>\n      <th>12</th>\n      <td>0</td>\n      <td>1</td>\n      <td>0</td>\n      <td>3</td>\n      <td>2023-07-01 12:59:44</td>\n      <td>-0.2500</td>\n      <td>219.683274</td>\n      <td>75.994662</td>\n      <td>25160000.0</td>\n      <td>6290000.0</td>\n      <td>anticlockwise</td>\n      <td>0.038939</td>\n      <td>[203.0, 204.0, 204.0, 204.0, 205.0, 205.0, 205...</td>\n      <td>[74.0, 71.0, 72.0, 74.0, 72.0, 74.0, 80.0, 81....</td>\n    </tr>\n    <tr>\n      <th>13</th>\n      <td>0</td>\n      <td>1</td>\n      <td>1</td>\n      <td>0</td>\n      <td>2023-07-01 12:59:44</td>\n      <td>-0.7575</td>\n      <td>89.125000</td>\n      <td>90.062500</td>\n      <td>280000.0</td>\n      <td>142100.0</td>\n      <td>anticlockwise</td>\n      <td>0.000000</td>\n      <td>[88.0, 88.0, 88.0, 89.0, 89.0, 89.0, 90.0]</td>\n      <td>[89.0, 90.0, 91.0, 89.0, 90.0, 91.0, 89.0]</td>\n    </tr>\n    <tr>\n      <th>14</th>\n      <td>0</td>\n      <td>1</td>\n      <td>1</td>\n      <td>1</td>\n      <td>2023-07-01 12:59:44</td>\n      <td>-0.7575</td>\n      <td>277.720472</td>\n      <td>47.259843</td>\n      <td>7720000.0</td>\n      <td>3917900.0</td>\n      <td>anticlockwise</td>\n      <td>0.005243</td>\n      <td>[269.0, 269.0, 269.0, 270.0, 270.0, 270.0, 271...</td>\n      <td>[44.0, 49.0, 50.0, 49.0, 50.0, 51.0, 41.0, 42....</td>\n    </tr>\n    <tr>\n      <th>15</th>\n      <td>0</td>\n      <td>1</td>\n      <td>1</td>\n      <td>2</td>\n      <td>2023-07-01 12:59:44</td>\n      <td>-0.7575</td>\n      <td>288.444444</td>\n      <td>14.625000</td>\n      <td>3320000.0</td>\n      <td>1684900.0</td>\n      <td>clockwise</td>\n      <td>0.002251</td>\n      <td>[283.0, 283.0, 284.0, 284.0, 284.0, 284.0, 285...</td>\n      <td>[14.0, 17.0, 14.0, 15.0, 16.0, 17.0, 12.0, 13....</td>\n    </tr>\n    <tr>\n      <th>16</th>\n      <td>0</td>\n      <td>1</td>\n      <td>1</td>\n      <td>3</td>\n      <td>2023-07-01 12:59:44</td>\n      <td>-0.7575</td>\n      <td>256.547872</td>\n      <td>80.215426</td>\n      <td>5320000.0</td>\n      <td>2699900.0</td>\n      <td>clockwise</td>\n      <td>0.003938</td>\n      <td>[250.0, 250.0, 250.0, 251.0, 251.0, 251.0, 251...</td>\n      <td>[80.0, 81.0, 84.0, 75.0, 76.0, 77.0, 78.0, 80....</td>\n    </tr>\n    <tr>\n      <th>17</th>\n      <td>0</td>\n      <td>1</td>\n      <td>1</td>\n      <td>4</td>\n      <td>2023-07-01 12:59:44</td>\n      <td>-0.7575</td>\n      <td>219.869708</td>\n      <td>74.765355</td>\n      <td>24760000.0</td>\n      <td>12565700.0</td>\n      <td>anticlockwise</td>\n      <td>0.077721</td>\n      <td>[204.0, 204.0, 204.0, 205.0, 205.0, 205.0, 205...</td>\n      <td>[71.0, 72.0, 74.0, 69.0, 71.0, 72.0, 74.0, 80....</td>\n    </tr>\n  </tbody>\n</table>\n</div>"
     },
     "execution_count": 26,
     "metadata": {},
     "output_type": "execute_result"
    }
   ],
   "source": [
    "df_catalogue_level0"
   ],
   "metadata": {
    "collapsed": false,
    "ExecuteTime": {
     "end_time": "2025-07-29T08:38:16.808377Z",
     "start_time": "2025-07-29T08:38:16.738742Z"
    }
   },
   "id": "c97328efd1ea034",
   "execution_count": 26
  }
 ],
 "metadata": {
  "kernelspec": {
   "display_name": "Python 3",
   "language": "python",
   "name": "python3"
  },
  "language_info": {
   "codemirror_mode": {
    "name": "ipython",
    "version": 2
   },
   "file_extension": ".py",
   "mimetype": "text/x-python",
   "name": "python",
   "nbconvert_exporter": "python",
   "pygments_lexer": "ipython2",
   "version": "2.7.6"
  }
 },
 "nbformat": 4,
 "nbformat_minor": 5
}
