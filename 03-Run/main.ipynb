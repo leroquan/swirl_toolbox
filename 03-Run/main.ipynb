{
 "cells": [
  {
   "cell_type": "code",
   "id": "initial_id",
   "metadata": {
    "collapsed": true,
    "ExecuteTime": {
     "end_time": "2025-08-19T13:52:20.980898Z",
     "start_time": "2025-08-19T13:52:19.629241Z"
    }
   },
   "source": "import main",
   "outputs": [],
   "execution_count": 1
  },
  {
   "metadata": {
    "ExecuteTime": {
     "end_time": "2025-08-19T13:52:22.087420Z",
     "start_time": "2025-08-19T13:52:22.083377Z"
    }
   },
   "cell_type": "code",
   "source": "config_path = 'config_postprocessing.json'",
   "id": "1329746b66610f22",
   "outputs": [],
   "execution_count": 2
  },
  {
   "cell_type": "code",
   "source": "main.main(config_path)",
   "metadata": {
    "collapsed": false,
    "ExecuteTime": {
     "end_time": "2025-08-19T13:58:42.773835Z",
     "start_time": "2025-08-19T13:52:23.297576Z"
    }
   },
   "id": "70f5eca24e21c178",
   "outputs": [
    {
     "name": "stdout",
     "output_type": "stream",
     "text": [
      "Loading input data... (2025-08-19 15:52:23)\n",
      "Saving merged mitgcm results... (2025-08-19 15:52:29)\n",
      "Rotating u,v by -19.411486858683578°\n",
      "Preparing parallel tasks... (2025-08-19 15:53:54)\n",
      "...using 9 cores...\n",
      "Computing parallel tasks... (2025-08-19 15:53:54)\n",
      "Saving catalogue level 0 to ./outputs/eddy_catalogues_lvl0/lvl0_20230808_20230808.csv... (2025-08-19 15:58:40)\n",
      "Done. (2025-08-19 15:58:42)\n"
     ]
    }
   ],
   "execution_count": 3
  },
  {
   "metadata": {},
   "cell_type": "code",
   "outputs": [],
   "execution_count": null,
   "source": "",
   "id": "4025acd37e40b63a"
  }
 ],
 "metadata": {
  "kernelspec": {
   "display_name": "Python 3",
   "language": "python",
   "name": "python3"
  },
  "language_info": {
   "codemirror_mode": {
    "name": "ipython",
    "version": 2
   },
   "file_extension": ".py",
   "mimetype": "text/x-python",
   "name": "python",
   "nbconvert_exporter": "python",
   "pygments_lexer": "ipython2",
   "version": "2.7.6"
  }
 },
 "nbformat": 4,
 "nbformat_minor": 5
}
