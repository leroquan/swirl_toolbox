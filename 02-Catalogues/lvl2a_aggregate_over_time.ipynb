{
 "cells": [
  {
   "cell_type": "code",
   "outputs": [],
   "source": [
    "import pandas as pd\n",
    "import numpy as np\n",
    "import os"
   ],
   "metadata": {
    "collapsed": false,
    "ExecuteTime": {
     "end_time": "2025-07-23T12:44:12.089760Z",
     "start_time": "2025-07-23T12:44:11.741973Z"
    }
   },
   "id": "108f85d9c4eb58dd",
   "execution_count": 1
  },
  {
   "cell_type": "code",
   "outputs": [],
   "source": [
    "model = 'geneva_200m'\n",
    "params_file = 'swirl_03'\n",
    "output_folder = r'../Outputs'\n",
    "\n",
    "lvl1_filename = f'{model}_{params_file}_day1_lvl1.csv'\n",
    "output_filename = f'{model}_{params_file}_day1_lvl2a.csv'"
   ],
   "metadata": {
    "collapsed": false,
    "ExecuteTime": {
     "end_time": "2025-07-23T12:44:12.095508Z",
     "start_time": "2025-07-23T12:44:12.091915Z"
    }
   },
   "id": "cc195934c0a8ca39",
   "execution_count": 2
  },
  {
   "cell_type": "markdown",
   "source": [
    "# Import catalogue lvl1"
   ],
   "metadata": {
    "collapsed": false
   },
   "id": "cfd6746cad608b87"
  },
  {
   "cell_type": "code",
   "outputs": [],
   "source": [
    "level1_csv_path = os.path.join(output_folder, lvl1_filename)\n",
    "level1_data = pd.read_csv(level1_csv_path)"
   ],
   "metadata": {
    "collapsed": false,
    "ExecuteTime": {
     "end_time": "2025-07-23T12:44:12.142926Z",
     "start_time": "2025-07-23T12:44:12.096814Z"
    }
   },
   "id": "1839e31700b02673",
   "execution_count": 3
  },
  {
   "cell_type": "markdown",
   "source": [
    "# Create catalogue lvl2"
   ],
   "metadata": {
    "collapsed": false
   },
   "id": "846045d287a4ee21"
  },
  {
   "cell_type": "code",
   "outputs": [],
   "source": [
    "def ranges_intersect(min1, max1, min2, max2):\n",
    "    return max1 >= min2 and max2 >= min1"
   ],
   "metadata": {
    "collapsed": false,
    "ExecuteTime": {
     "end_time": "2025-07-23T12:44:12.176383Z",
     "start_time": "2025-07-23T12:44:12.144167Z"
    }
   },
   "id": "c459ffdfefd1539",
   "execution_count": 4
  },
  {
   "cell_type": "code",
   "outputs": [],
   "source": [
    "def compute_center_distance(df1, df2):\n",
    "    return np.sqrt((df1['xc_mean'] - df2['xc_mean'])**2 + (df1['yc_mean'] - df2['yc_mean'])**2)"
   ],
   "metadata": {
    "collapsed": false,
    "ExecuteTime": {
     "end_time": "2025-07-23T12:44:12.202950Z",
     "start_time": "2025-07-23T12:44:12.178653Z"
    }
   },
   "id": "6ee062145a772b8e",
   "execution_count": 5
  },
  {
   "cell_type": "code",
   "outputs": [],
   "source": [
    "# Function to identify the different depths of an eddy\n",
    "def track_eddy(level1_data, id_eddy, idx_already_aggregated, dist_threshold, time_threshold):\n",
    "    mask = (\n",
    "        (~level1_data['id'].isin(idx_already_aggregated)) &\n",
    "        level1_data.apply(lambda row: ranges_intersect(row['depth_min_[m]'],row['depth_max_[m]'],level1_data.at[id_eddy, 'depth_min_[m]'],level1_data.at[id_eddy, 'depth_max_[m]']), axis=1) &\n",
    "        (level1_data['rotation_direction'] == level1_data.at[id_eddy, 'rotation_direction']) &\n",
    "        (compute_center_distance(level1_data, level1_data.iloc[id_eddy]) < dist_threshold * 3) # First a rough distance threshold\n",
    "    )\n",
    "    \n",
    "    filtered_eddies = level1_data.loc[mask]\n",
    "    filtered_eddies = filtered_eddies.copy()\n",
    "    filtered_eddies['parsed_date'] = pd.to_datetime(filtered_eddies['date'])\n",
    "    \n",
    "    sorted_by_date = filtered_eddies.sort_values('parsed_date', ascending=True).reset_index(drop=False)\n",
    "    \n",
    "    aggregated_eddy = sorted_by_date.iloc[[0]]\n",
    "    for i in range(1,len(sorted_by_date)):\n",
    "        distance_criteria = compute_center_distance(sorted_by_date.iloc[i], aggregated_eddy.iloc[-1]) < dist_threshold # and now the refined distance threshold\n",
    "        time_criteria = sorted_by_date.iloc[i]['time_index'] - sorted_by_date.iloc[i-1]['time_index'] <= time_threshold\n",
    "        \n",
    "        if ~time_criteria:     \n",
    "            break\n",
    "            \n",
    "        if distance_criteria:\n",
    "            aggregated_eddy = pd.concat([aggregated_eddy, sorted_by_date.iloc[[i]]], ignore_index=True)\n",
    "    \n",
    "    return aggregated_eddy"
   ],
   "metadata": {
    "collapsed": false,
    "ExecuteTime": {
     "end_time": "2025-07-23T12:44:12.229341Z",
     "start_time": "2025-07-23T12:44:12.204972Z"
    }
   },
   "id": "7a5f0fa84f2455a0",
   "execution_count": 6
  },
  {
   "cell_type": "code",
   "outputs": [],
   "source": [
    "# Parameters\n",
    "dist_threshold = 5 # in number of cells\n",
    "time_threshold = 2 # in number of timestep\n",
    "timestep_in_seconds = 3600\n",
    "\n",
    "# Main loop\n",
    "eddy_rows_lvl2a= []  # Collect aggregated rows here\n",
    "id_level2a = 0\n",
    "idx_already_aggregated = set()\n",
    "for idx in level1_data['id']: \n",
    "    if idx in idx_already_aggregated:\n",
    "        continue\n",
    "        \n",
    "    aggregated_data = track_eddy(level1_data, idx, idx_already_aggregated, dist_threshold, time_threshold)\n",
    "    lifespan = (timestep_in_seconds + (pd.to_datetime(aggregated_data['date'].iloc[-1]) - pd.to_datetime(aggregated_data['date'].iloc[0])).total_seconds()) / 3600\n",
    "\n",
    "    row = {\n",
    "        'id': id_level2a,\n",
    "        'id_lvl1': aggregated_data['id'].tolist(),\n",
    "        'time_indices(t)': aggregated_data['time_index'].tolist(),\n",
    "        'dates(t)': aggregated_data['date'].tolist(),\n",
    "        'xc(t)': aggregated_data['xc_mean'].tolist(),\n",
    "        'yc(t)': aggregated_data['yc_mean'].tolist(),\n",
    "        'depth_min(t)_[m]': aggregated_data['depth_min_[m]'].tolist(),\n",
    "        'depth_max(t)_[m]': aggregated_data['depth_max_[m]'].tolist(),\n",
    "        'volume(t)_[m3]': aggregated_data['volume_[m3]'].tolist(),\n",
    "        'rotation_direction': aggregated_data.at[0, 'rotation_direction'],\n",
    "        'kinetic_energy(t)_[MJ]': aggregated_data['kinetic_energy_[MJ]'].tolist(),\n",
    "        'lifespan_[h]': lifespan\n",
    "    }\n",
    "\n",
    "    eddy_rows_lvl2a.append(row)\n",
    "    idx_already_aggregated.update(aggregated_data['id'].tolist())\n",
    "    id_level2a += 1\n",
    "\n",
    "# Create the final DataFrame using pd.concat\n",
    "df_catalogue_level2 = pd.concat([pd.DataFrame([row]) for row in eddy_rows_lvl2a], ignore_index=True)"
   ],
   "metadata": {
    "collapsed": false,
    "ExecuteTime": {
     "end_time": "2025-07-23T12:45:54.643068Z",
     "start_time": "2025-07-23T12:44:12.231635Z"
    }
   },
   "id": "5b140be02be95d42",
   "execution_count": 7
  },
  {
   "cell_type": "code",
   "outputs": [
    {
     "data": {
      "text/plain": "        id                                            id_lvl1  \\\n0        0                                 [0, 170, 352, 365]   \n1        1                            [1, 172, 342, 499, 659]   \n2        2  [2, 171, 343, 501, 660, 819, 973, 1133, 1454, ...   \n3        3  [3, 10, 173, 178, 346, 355, 363, 514, 667, 824...   \n4        4                                           [4, 341]   \n...    ...                                                ...   \n1827  1827                                             [3664]   \n1828  1828                                             [3666]   \n1829  1829                                             [3671]   \n1830  1830                                             [3672]   \n1831  1831                                             [3675]   \n\n                                        time_indices(t)  \\\n0                                          [0, 1, 2, 2]   \n1                                       [0, 1, 2, 3, 4]   \n2                       [0, 1, 2, 3, 4, 5, 6, 7, 9, 10]   \n3     [0, 0, 1, 1, 2, 2, 2, 3, 4, 5, 6, 16, 17, 18, ...   \n4                                                [0, 2]   \n...                                                 ...   \n1827                                               [23]   \n1828                                               [23]   \n1829                                               [23]   \n1830                                               [23]   \n1831                                               [23]   \n\n                                               dates(t)  \\\n0     [2023-07-01 12:00:00, 2023-07-01 12:59:44, 202...   \n1     [2023-07-01 12:00:00, 2023-07-01 12:59:44, 202...   \n2     [2023-07-01 12:00:00, 2023-07-01 12:59:44, 202...   \n3     [2023-07-01 12:00:00, 2023-07-01 12:00:00, 202...   \n4            [2023-07-01 12:00:00, 2023-07-01 14:00:00]   \n...                                                 ...   \n1827                              [2023-07-02 10:59:44]   \n1828                              [2023-07-02 10:59:44]   \n1829                              [2023-07-02 10:59:44]   \n1830                              [2023-07-02 10:59:44]   \n1831                              [2023-07-02 10:59:44]   \n\n                                                  xc(t)  \\\n0     [280.3964570634618, 278.32495824839344, 275.27...   \n1     [256.30551005212214, 256.5520596570136, 255.96...   \n2     [287.15970145372427, 289.91144537568914, 287.2...   \n3     [223.0081024376751, 221.91765621731315, 219.27...   \n4                [47.29124579124579, 46.02382802382802]   \n...                                                 ...   \n1827                                [238.2142857142857]   \n1828                                [220.0434782608696]   \n1829                                            [247.5]   \n1830                                [277.7640692640693]   \n1831                                [282.7608695652174]   \n\n                                                  yc(t)  \\\n0     [45.61825354306952, 47.13970202939328, 49.8649...   \n1     [78.64036981881361, 80.38491061061292, 80.9231...   \n2     [15.894140760404936, 14.699779743636938, 13.94...   \n3     [74.59188138628512, 71.7993450227922, 73.49327...   \n4                [63.67272727272728, 62.78597945264613]   \n...                                                 ...   \n1827                                             [92.5]   \n1828                                [99.95652173913044]   \n1829                                             [88.5]   \n1830                               [29.287878787878785]   \n1831                                [49.80434782608695]   \n\n                                       depth_min(t)_[m]  \\\n0     [-12.219499588012695, -10.545000076293944, -4....   \n1     [-0.7574999928474426, -2.375999927520752, -4.7...   \n2     [-6.777999877929688, -6.777999877929688, -4.77...   \n3     [-13.095499992370604, -8.216500282287598, -16....   \n4               [-4.14900016784668, -1.280500054359436]   \n...                                                 ...   \n1827                               [-159.1280059814453]   \n1828                               [-181.7250061035156]   \n1829                               [-200.5644989013672]   \n1830                               [-214.1094970703125]   \n1831                               [-236.0294952392578]   \n\n                                       depth_max(t)_[m]  \\\n0     [-0.25, -0.25, -1.820000052452088, -9.74499988...   \n1                   [-0.25, -0.25, -0.25, -0.25, -0.25]   \n2     [-0.25, -0.25, -0.25, -0.25, -0.25, -0.25, -0....   \n3     [-0.25, -6.777999877929688, -0.25, -6.77799987...   \n4                          [-0.7574999928474426, -0.25]   \n...                                                 ...   \n1827                               [-159.1280059814453]   \n1828                              [-170.08450317382812]   \n1829                               [-200.5644989013672]   \n1830                               [-200.5644989013672]   \n1831                               [-236.0294952392578]   \n\n                                         volume(t)_[m3] rotation_direction  \\\n0     [96491120.75, 95150080.5, 16569420.25, 2354000.0]      anticlockwise   \n1     [2532500.0, 12385920.0, 24083240.0, 22765500.0...          clockwise   \n2     [15977500.25, 19057600.25, 11672800.0, 1076702...          clockwise   \n3     [305285100.0, 61345100.0, 318991740.0, 5979722...      anticlockwise   \n4                            [297560.0078125, 737380.0]      anticlockwise   \n...                                                 ...                ...   \n1827                                         [837520.0]      anticlockwise   \n1828                                        [2933420.0]      anticlockwise   \n1829                                         [517680.0]      anticlockwise   \n1830                                        [6195240.0]      anticlockwise   \n1831                                        [6926680.0]      anticlockwise   \n\n                                 kinetic_energy(t)_[MJ]  lifespan_[h]  \n0     [0.2520422081209131, 0.2265821200684555, 0.015...      3.000000  \n1     [0.0029149493815165, 0.0187376353153208, 0.039...      5.000000  \n2     [0.0127375426380894, 0.0186177329620792, 0.010...     11.000000  \n3     [2.072985393398578, 0.494573217868561, 1.73972...     23.995556  \n4                             [0.0, 0.0005479106807669]      3.000000  \n...                                                 ...           ...  \n1827                                              [0.0]      1.000000  \n1828                                              [0.0]      1.000000  \n1829                                              [0.0]      1.000000  \n1830                           [3.0468662777933763e-06]      1.000000  \n1831                            [4.681672742341914e-05]      1.000000  \n\n[1832 rows x 12 columns]",
      "text/html": "<div>\n<style scoped>\n    .dataframe tbody tr th:only-of-type {\n        vertical-align: middle;\n    }\n\n    .dataframe tbody tr th {\n        vertical-align: top;\n    }\n\n    .dataframe thead th {\n        text-align: right;\n    }\n</style>\n<table border=\"1\" class=\"dataframe\">\n  <thead>\n    <tr style=\"text-align: right;\">\n      <th></th>\n      <th>id</th>\n      <th>id_lvl1</th>\n      <th>time_indices(t)</th>\n      <th>dates(t)</th>\n      <th>xc(t)</th>\n      <th>yc(t)</th>\n      <th>depth_min(t)_[m]</th>\n      <th>depth_max(t)_[m]</th>\n      <th>volume(t)_[m3]</th>\n      <th>rotation_direction</th>\n      <th>kinetic_energy(t)_[MJ]</th>\n      <th>lifespan_[h]</th>\n    </tr>\n  </thead>\n  <tbody>\n    <tr>\n      <th>0</th>\n      <td>0</td>\n      <td>[0, 170, 352, 365]</td>\n      <td>[0, 1, 2, 2]</td>\n      <td>[2023-07-01 12:00:00, 2023-07-01 12:59:44, 202...</td>\n      <td>[280.3964570634618, 278.32495824839344, 275.27...</td>\n      <td>[45.61825354306952, 47.13970202939328, 49.8649...</td>\n      <td>[-12.219499588012695, -10.545000076293944, -4....</td>\n      <td>[-0.25, -0.25, -1.820000052452088, -9.74499988...</td>\n      <td>[96491120.75, 95150080.5, 16569420.25, 2354000.0]</td>\n      <td>anticlockwise</td>\n      <td>[0.2520422081209131, 0.2265821200684555, 0.015...</td>\n      <td>3.000000</td>\n    </tr>\n    <tr>\n      <th>1</th>\n      <td>1</td>\n      <td>[1, 172, 342, 499, 659]</td>\n      <td>[0, 1, 2, 3, 4]</td>\n      <td>[2023-07-01 12:00:00, 2023-07-01 12:59:44, 202...</td>\n      <td>[256.30551005212214, 256.5520596570136, 255.96...</td>\n      <td>[78.64036981881361, 80.38491061061292, 80.9231...</td>\n      <td>[-0.7574999928474426, -2.375999927520752, -4.7...</td>\n      <td>[-0.25, -0.25, -0.25, -0.25, -0.25]</td>\n      <td>[2532500.0, 12385920.0, 24083240.0, 22765500.0...</td>\n      <td>clockwise</td>\n      <td>[0.0029149493815165, 0.0187376353153208, 0.039...</td>\n      <td>5.000000</td>\n    </tr>\n    <tr>\n      <th>2</th>\n      <td>2</td>\n      <td>[2, 171, 343, 501, 660, 819, 973, 1133, 1454, ...</td>\n      <td>[0, 1, 2, 3, 4, 5, 6, 7, 9, 10]</td>\n      <td>[2023-07-01 12:00:00, 2023-07-01 12:59:44, 202...</td>\n      <td>[287.15970145372427, 289.91144537568914, 287.2...</td>\n      <td>[15.894140760404936, 14.699779743636938, 13.94...</td>\n      <td>[-6.777999877929688, -6.777999877929688, -4.77...</td>\n      <td>[-0.25, -0.25, -0.25, -0.25, -0.25, -0.25, -0....</td>\n      <td>[15977500.25, 19057600.25, 11672800.0, 1076702...</td>\n      <td>clockwise</td>\n      <td>[0.0127375426380894, 0.0186177329620792, 0.010...</td>\n      <td>11.000000</td>\n    </tr>\n    <tr>\n      <th>3</th>\n      <td>3</td>\n      <td>[3, 10, 173, 178, 346, 355, 363, 514, 667, 824...</td>\n      <td>[0, 0, 1, 1, 2, 2, 2, 3, 4, 5, 6, 16, 17, 18, ...</td>\n      <td>[2023-07-01 12:00:00, 2023-07-01 12:00:00, 202...</td>\n      <td>[223.0081024376751, 221.91765621731315, 219.27...</td>\n      <td>[74.59188138628512, 71.7993450227922, 73.49327...</td>\n      <td>[-13.095499992370604, -8.216500282287598, -16....</td>\n      <td>[-0.25, -6.777999877929688, -0.25, -6.77799987...</td>\n      <td>[305285100.0, 61345100.0, 318991740.0, 5979722...</td>\n      <td>anticlockwise</td>\n      <td>[2.072985393398578, 0.494573217868561, 1.73972...</td>\n      <td>23.995556</td>\n    </tr>\n    <tr>\n      <th>4</th>\n      <td>4</td>\n      <td>[4, 341]</td>\n      <td>[0, 2]</td>\n      <td>[2023-07-01 12:00:00, 2023-07-01 14:00:00]</td>\n      <td>[47.29124579124579, 46.02382802382802]</td>\n      <td>[63.67272727272728, 62.78597945264613]</td>\n      <td>[-4.14900016784668, -1.280500054359436]</td>\n      <td>[-0.7574999928474426, -0.25]</td>\n      <td>[297560.0078125, 737380.0]</td>\n      <td>anticlockwise</td>\n      <td>[0.0, 0.0005479106807669]</td>\n      <td>3.000000</td>\n    </tr>\n    <tr>\n      <th>...</th>\n      <td>...</td>\n      <td>...</td>\n      <td>...</td>\n      <td>...</td>\n      <td>...</td>\n      <td>...</td>\n      <td>...</td>\n      <td>...</td>\n      <td>...</td>\n      <td>...</td>\n      <td>...</td>\n      <td>...</td>\n    </tr>\n    <tr>\n      <th>1827</th>\n      <td>1827</td>\n      <td>[3664]</td>\n      <td>[23]</td>\n      <td>[2023-07-02 10:59:44]</td>\n      <td>[238.2142857142857]</td>\n      <td>[92.5]</td>\n      <td>[-159.1280059814453]</td>\n      <td>[-159.1280059814453]</td>\n      <td>[837520.0]</td>\n      <td>anticlockwise</td>\n      <td>[0.0]</td>\n      <td>1.000000</td>\n    </tr>\n    <tr>\n      <th>1828</th>\n      <td>1828</td>\n      <td>[3666]</td>\n      <td>[23]</td>\n      <td>[2023-07-02 10:59:44]</td>\n      <td>[220.0434782608696]</td>\n      <td>[99.95652173913044]</td>\n      <td>[-181.7250061035156]</td>\n      <td>[-170.08450317382812]</td>\n      <td>[2933420.0]</td>\n      <td>anticlockwise</td>\n      <td>[0.0]</td>\n      <td>1.000000</td>\n    </tr>\n    <tr>\n      <th>1829</th>\n      <td>1829</td>\n      <td>[3671]</td>\n      <td>[23]</td>\n      <td>[2023-07-02 10:59:44]</td>\n      <td>[247.5]</td>\n      <td>[88.5]</td>\n      <td>[-200.5644989013672]</td>\n      <td>[-200.5644989013672]</td>\n      <td>[517680.0]</td>\n      <td>anticlockwise</td>\n      <td>[0.0]</td>\n      <td>1.000000</td>\n    </tr>\n    <tr>\n      <th>1830</th>\n      <td>1830</td>\n      <td>[3672]</td>\n      <td>[23]</td>\n      <td>[2023-07-02 10:59:44]</td>\n      <td>[277.7640692640693]</td>\n      <td>[29.287878787878785]</td>\n      <td>[-214.1094970703125]</td>\n      <td>[-200.5644989013672]</td>\n      <td>[6195240.0]</td>\n      <td>anticlockwise</td>\n      <td>[3.0468662777933763e-06]</td>\n      <td>1.000000</td>\n    </tr>\n    <tr>\n      <th>1831</th>\n      <td>1831</td>\n      <td>[3675]</td>\n      <td>[23]</td>\n      <td>[2023-07-02 10:59:44]</td>\n      <td>[282.7608695652174]</td>\n      <td>[49.80434782608695]</td>\n      <td>[-236.0294952392578]</td>\n      <td>[-236.0294952392578]</td>\n      <td>[6926680.0]</td>\n      <td>anticlockwise</td>\n      <td>[4.681672742341914e-05]</td>\n      <td>1.000000</td>\n    </tr>\n  </tbody>\n</table>\n<p>1832 rows × 12 columns</p>\n</div>"
     },
     "execution_count": 8,
     "metadata": {},
     "output_type": "execute_result"
    }
   ],
   "source": [
    "df_catalogue_level2"
   ],
   "metadata": {
    "collapsed": false,
    "ExecuteTime": {
     "end_time": "2025-07-23T12:45:54.679183Z",
     "start_time": "2025-07-23T12:45:54.645949Z"
    }
   },
   "id": "e7bce6d5cdbc2358",
   "execution_count": 8
  },
  {
   "cell_type": "markdown",
   "source": [
    "# Save"
   ],
   "metadata": {
    "collapsed": false
   },
   "id": "d2a947baf764c4dd"
  },
  {
   "cell_type": "code",
   "outputs": [],
   "source": [
    "df_catalogue_level2.to_csv(os.path.join(output_folder, output_filename), index=False)"
   ],
   "metadata": {
    "collapsed": false,
    "ExecuteTime": {
     "end_time": "2025-07-21T14:05:51.179881Z",
     "start_time": "2025-07-21T14:05:51.140593Z"
    }
   },
   "id": "b9b1df834796a039",
   "execution_count": 13
  },
  {
   "cell_type": "code",
   "outputs": [],
   "source": [],
   "metadata": {
    "collapsed": false
   },
   "id": "21516cc8946e70f8"
  }
 ],
 "metadata": {
  "kernelspec": {
   "display_name": "Python 3",
   "language": "python",
   "name": "python3"
  },
  "language_info": {
   "codemirror_mode": {
    "name": "ipython",
    "version": 2
   },
   "file_extension": ".py",
   "mimetype": "text/x-python",
   "name": "python",
   "nbconvert_exporter": "python",
   "pygments_lexer": "ipython2",
   "version": "2.7.6"
  }
 },
 "nbformat": 4,
 "nbformat_minor": 5
}
