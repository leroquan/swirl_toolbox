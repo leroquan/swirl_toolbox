{
 "cells": [
  {
   "cell_type": "code",
   "outputs": [],
   "source": [
    "import pandas as pd\n",
    "import pickle\n",
    "\n",
    "from utils_mitgcm import open_mitgcm_ds_from_config"
   ],
   "metadata": {
    "collapsed": false
   },
   "id": "96b34c309c03e126",
   "execution_count": 1
  },
  {
   "cell_type": "code",
   "outputs": [],
   "source": [
    "model = 'geneva_200m'\n",
    "params_file = 'swirl_03'"
   ],
   "metadata": {
    "collapsed": false
   },
   "id": "c47a770151f9258",
   "execution_count": 2
  },
  {
   "cell_type": "markdown",
   "source": [
    "# Open MITgcm results"
   ],
   "metadata": {
    "collapsed": false
   },
   "id": "42efbbc784b9dab"
  },
  {
   "cell_type": "code",
   "outputs": [],
   "source": [
    "mitgcm_config, ds_mitgcm = open_mitgcm_ds_from_config('../config.json', model)"
   ],
   "metadata": {
    "collapsed": false
   },
   "id": "45b223b2060a5d41",
   "execution_count": 3
  },
  {
   "cell_type": "code",
   "outputs": [],
   "source": [
    "with open(rf'../Outputs/{model}_{params_file}_eddies.pkl', 'rb') as f:\n",
    "    eddies = pickle.load(f)"
   ],
   "metadata": {
    "collapsed": false
   },
   "id": "9876fb0056107d9c"
  },
  {
   "cell_type": "code",
   "outputs": [],
   "source": [
    "def compute_ke_snapshot(snapshot_vel):\n",
    "    ke = 0.5 * (snapshot_vel.UVEL.values**2 + snapshot_vel.VVEL.values**2 + snapshot_vel.WVEL.values**2) * snapshot_vel.dxC.values * snapshot_vel.dyC.values * snapshot_vel.drC.values  # This gives J per cell\n",
    "    \n",
    "    return ke / 1e6  # Convert to MJ"
   ],
   "metadata": {
    "collapsed": false
   },
   "id": "b963c15ee85f166c"
  },
  {
   "cell_type": "code",
   "outputs": [],
   "source": [
    "def translate_rotation_direction(eddy_orientation: int):\n",
    "    return 'clockwise' if eddy_orientation == -1 else 'anticlockwise' "
   ],
   "metadata": {
    "collapsed": false
   },
   "id": "107a975188a49b08"
  },
  {
   "cell_type": "code",
   "outputs": [],
   "source": [
    "df_catalogue_level0 = pd.DataFrame(columns=[\n",
    "    'id',\n",
    "    'date',\n",
    "    'depth_[m]',\n",
    "    'xc',\n",
    "    'yc',\n",
    "    'surface_area_[m2]',\n",
    "    'volume_slice_[m3]',\n",
    "    'rotation_direction',\n",
    "    'kinetic_energy_[MJ]'\n",
    "])\n",
    "id_level0 = 0\n",
    "for t_index in eddies['time_indices']:\n",
    "    for d_index in eddies['depth_indices']:\n",
    "        snapshot_vel = ds_mitgcm.isel(time=t_index, Z=d_index, Zp1=d_index, Zl=d_index, Zu=d_index)\n",
    "        snapshot_eddies = eddies[t_index][d_index]\n",
    "        surface_cell = snapshot_vel.dxC.values[0][0] * snapshot_vel.dyC.values[0][0]\n",
    "        ke_snapshot_megajoules = compute_ke_snapshot(snapshot_vel)\n",
    "        for eddy in snapshot_eddies:\n",
    "            print(f'Processing eddy {id_level0}')\n",
    "            vortex_indices = tuple(eddy.vortex_cells.astype(int))\n",
    "            ke_eddy = ke_snapshot_megajoules[vortex_indices[1], vortex_indices[0]].sum()\n",
    "            surface_area = len(eddy.vortex_cells[0]) * surface_cell\n",
    "            \n",
    "            df_catalogue_level0.loc[id_level0] = [\n",
    "                id_level0,                                                       # int\n",
    "                pd.Timestamp(snapshot_vel.time.values).to_pydatetime(),          # datetime64 -> datetime.datetime\n",
    "                float(snapshot_vel.Z.values),                                    # float\n",
    "                eddy.center[0],                                                  # tuple\n",
    "                eddy.center[1],\n",
    "                float(surface_area),                                             # numpy.float32 -> float\n",
    "                float(surface_area * float(snapshot_vel.drC.values)),            # volume\n",
    "                translate_rotation_direction(eddy.orientation),                  # str\n",
    "                float(ke_eddy)                                                   # numpy.float64 -> float\n",
    "            ]\n",
    "            id_level0 += 1"
   ],
   "metadata": {
    "collapsed": false
   },
   "id": "febfa7d3032fe1fe"
  }
 ],
 "metadata": {
  "kernelspec": {
   "display_name": "Python 3",
   "language": "python",
   "name": "python3"
  },
  "language_info": {
   "codemirror_mode": {
    "name": "ipython",
    "version": 2
   },
   "file_extension": ".py",
   "mimetype": "text/x-python",
   "name": "python",
   "nbconvert_exporter": "python",
   "pygments_lexer": "ipython2",
   "version": "2.7.6"
  }
 },
 "nbformat": 4,
 "nbformat_minor": 5
}
