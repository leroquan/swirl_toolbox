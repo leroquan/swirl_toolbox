{
 "cells": [
  {
   "cell_type": "code",
   "outputs": [],
   "source": [
    "import pandas as pd\n",
    "import pickle\n",
    "import os\n",
    "\n",
    "from utils_mitgcm import open_mitgcm_ds_from_config"
   ],
   "metadata": {
    "collapsed": false,
    "ExecuteTime": {
     "end_time": "2025-07-28T14:42:11.998991Z",
     "start_time": "2025-07-28T14:42:11.193529Z"
    }
   },
   "id": "96b34c309c03e126",
   "execution_count": 1
  },
  {
   "cell_type": "code",
   "outputs": [],
   "source": [
    "model = 'geneva_200m'\n",
    "params_file = 'swirl_03'\n",
    "pickle_file_name = f'{model}_{params_file}_day1.pkl'\n",
    "output_folder = r'../Outputs'\n",
    "\n",
    "output_filename = f'{model}_{params_file}_day1_lvl0.csv'"
   ],
   "metadata": {
    "collapsed": false,
    "ExecuteTime": {
     "end_time": "2025-07-28T14:42:12.004356Z",
     "start_time": "2025-07-28T14:42:12.000717Z"
    }
   },
   "id": "c090d27019a1f029",
   "execution_count": 2
  },
  {
   "cell_type": "markdown",
   "source": [
    "# Open MITgcm results"
   ],
   "metadata": {
    "collapsed": false
   },
   "id": "a51be222bce24095"
  },
  {
   "cell_type": "code",
   "outputs": [],
   "source": [
    "mitgcm_config, ds_mitgcm = open_mitgcm_ds_from_config('../config.json', model)"
   ],
   "metadata": {
    "collapsed": false,
    "ExecuteTime": {
     "end_time": "2025-07-28T14:42:17.691569Z",
     "start_time": "2025-07-28T14:42:12.005515Z"
    }
   },
   "id": "a0ef98641134b152",
   "execution_count": 3
  },
  {
   "cell_type": "markdown",
   "source": [
    "# Open pickle eddies file"
   ],
   "metadata": {
    "collapsed": false
   },
   "id": "717e03e09fedb7f6"
  },
  {
   "cell_type": "code",
   "outputs": [],
   "source": [
    "input_file_path = os.path.join(output_folder, pickle_file_name)\n",
    "with open(input_file_path, 'rb') as f:\n",
    "    eddies = pickle.load(f)"
   ],
   "metadata": {
    "collapsed": false,
    "ExecuteTime": {
     "end_time": "2025-07-21T14:25:35.153678Z",
     "start_time": "2025-07-21T14:25:13.604857Z"
    }
   },
   "id": "e1b9b9b6d563b05e",
   "execution_count": 4
  },
  {
   "cell_type": "markdown",
   "source": [
    "# Create catalogue lvl0"
   ],
   "metadata": {
    "collapsed": false
   },
   "id": "28e152d235b2a739"
  },
  {
   "cell_type": "code",
   "outputs": [],
   "source": [
    "def compute_ke_snapshot(snapshot_vel):\n",
    "    ke = 0.5 * (snapshot_vel.UVEL.values**2 + snapshot_vel.VVEL.values**2 + snapshot_vel.WVEL.values**2) * snapshot_vel.dxC.values * snapshot_vel.dyC.values * snapshot_vel.drC.values  # This gives J per cell\n",
    "    \n",
    "    return ke / 1e6  # Convert to MJ"
   ],
   "metadata": {
    "collapsed": false,
    "ExecuteTime": {
     "end_time": "2025-07-21T14:26:33.259117Z",
     "start_time": "2025-07-21T14:26:33.252764Z"
    }
   },
   "id": "52327cb103262c3",
   "execution_count": 8
  },
  {
   "cell_type": "code",
   "outputs": [],
   "source": [
    "def translate_rotation_direction(eddy_orientation: int):\n",
    "    return 'clockwise' if eddy_orientation == -1 else 'anticlockwise' "
   ],
   "metadata": {
    "collapsed": false,
    "ExecuteTime": {
     "end_time": "2025-07-21T14:26:33.756003Z",
     "start_time": "2025-07-21T14:26:33.750968Z"
    }
   },
   "id": "e53449c6cfcd1241",
   "execution_count": 9
  },
  {
   "cell_type": "code",
   "outputs": [],
   "source": [
    "# Helper function to extract eddy info into a row\n",
    "def extract_eddy_data(id_level0, indices_eddy, eddy, snapshot_vel, ke_snapshot_megajoules, surface_cell):\n",
    "    vortex_indices = tuple(eddy.vortex_cells.astype(int))\n",
    "    ke_eddy = ke_snapshot_megajoules[vortex_indices[1], vortex_indices[0]].sum()\n",
    "    surface_area = len(eddy.vortex_cells[0]) * surface_cell\n",
    "\n",
    "    return {\n",
    "        'id': id_level0,\n",
    "        'time_index': indices_eddy[0],\n",
    "        'depth_index': indices_eddy[1],\n",
    "        'eddy_index': indices_eddy[2],\n",
    "        'date': pd.Timestamp(snapshot_vel.time.values).to_pydatetime(),\n",
    "        'depth_[m]': float(snapshot_vel.Z.values),\n",
    "        'xc': eddy.center[0],\n",
    "        'yc': eddy.center[1],\n",
    "        'surface_area_[m2]': float(surface_area),\n",
    "        'volume_slice_[m3]': float(surface_area * float(snapshot_vel.drC.values)),\n",
    "        'rotation_direction': translate_rotation_direction(eddy.orientation),\n",
    "        'kinetic_energy_[MJ]': float(ke_eddy),\n",
    "        'i_eddy_cells': eddy.vortex_cells[0],\n",
    "        'j_eddy_cells': eddy.vortex_cells[1]\n",
    "    }"
   ],
   "metadata": {
    "collapsed": false,
    "ExecuteTime": {
     "end_time": "2025-07-21T14:26:35.725334Z",
     "start_time": "2025-07-21T14:26:35.715474Z"
    }
   },
   "id": "f634c991b7f2821a",
   "execution_count": 10
  },
  {
   "cell_type": "code",
   "outputs": [],
   "source": [
    "# Initialize list to collect all DataFrame rows\n",
    "eddy_rows = []\n",
    "id_level0 = 0\n",
    "for t_index in eddies['time_indices']:\n",
    "    for d_index in eddies['depth_indices']:\n",
    "        snapshot_vel = ds_mitgcm.isel(time=t_index, Z=d_index, Zp1=d_index, Zl=d_index, Zu=d_index)\n",
    "        snapshot_eddies = eddies[t_index][d_index]\n",
    "        surface_cell = snapshot_vel.dxC.values[0][0] * snapshot_vel.dyC.values[0][0]\n",
    "        ke_snapshot_megajoules = compute_ke_snapshot(snapshot_vel)\n",
    "\n",
    "        for eddy_index in range(len(snapshot_eddies)):\n",
    "            indices_eddy = (t_index,d_index,eddy_index)\n",
    "            row_data = extract_eddy_data(id_level0, indices_eddy, snapshot_eddies[eddy_index], snapshot_vel, ke_snapshot_megajoules, surface_cell)\n",
    "            eddy_rows.append(row_data)\n",
    "            id_level0 += 1\n",
    "\n",
    "# Create final DataFrame in one step using pd.concat\n",
    "df_catalogue_level0 = pd.concat([pd.DataFrame([row]) for row in eddy_rows], ignore_index=True)"
   ],
   "metadata": {
    "collapsed": false,
    "ExecuteTime": {
     "end_time": "2025-07-21T14:41:20.965770Z",
     "start_time": "2025-07-21T14:26:39.906834Z"
    }
   },
   "id": "b4f5b38111c2614e",
   "execution_count": 11
  },
  {
   "cell_type": "markdown",
   "source": [
    "# Save as CSV"
   ],
   "metadata": {
    "collapsed": false
   },
   "id": "b2d760b87ec76b92"
  },
  {
   "cell_type": "code",
   "outputs": [],
   "source": [
    "df_catalogue_level0.to_csv(os.path.join(output_folder, output_filename), index=False)"
   ],
   "metadata": {
    "collapsed": false,
    "ExecuteTime": {
     "end_time": "2025-07-21T14:41:34.420849Z",
     "start_time": "2025-07-21T14:41:20.968802Z"
    }
   },
   "id": "7265fbc2a8c1e149",
   "execution_count": 12
  },
  {
   "cell_type": "code",
   "outputs": [],
   "source": [],
   "metadata": {
    "collapsed": false
   },
   "id": "ba8bbe2f6fd9e10b"
  }
 ],
 "metadata": {
  "kernelspec": {
   "display_name": "Python 3",
   "language": "python",
   "name": "python3"
  },
  "language_info": {
   "codemirror_mode": {
    "name": "ipython",
    "version": 2
   },
   "file_extension": ".py",
   "mimetype": "text/x-python",
   "name": "python",
   "nbconvert_exporter": "python",
   "pygments_lexer": "ipython2",
   "version": "2.7.6"
  }
 },
 "nbformat": 4,
 "nbformat_minor": 5
}
