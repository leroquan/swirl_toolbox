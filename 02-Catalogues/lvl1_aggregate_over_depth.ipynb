{
 "cells": [
  {
   "cell_type": "code",
   "execution_count": 11,
   "id": "initial_id",
   "metadata": {
    "collapsed": true,
    "ExecuteTime": {
     "end_time": "2025-07-17T16:36:09.903183Z",
     "start_time": "2025-07-17T16:36:09.897183Z"
    }
   },
   "outputs": [],
   "source": [
    "import pandas as pd\n",
    "import numpy as np\n",
    "import os"
   ]
  },
  {
   "cell_type": "code",
   "outputs": [],
   "source": [
    "model = 'geneva_200m'\n",
    "params_file = 'swirl_03'\n",
    "output_folder = r'../Outputs'\n",
    "\n",
    "lvl0_filename = f'{model}_{params_file}_lvl0.csv'\n",
    "output_filename = f'{model}_{params_file}_lvl1.csv'"
   ],
   "metadata": {
    "collapsed": false
   },
   "id": "9af5de2c8655f4f9"
  },
  {
   "cell_type": "code",
   "outputs": [],
   "source": [
    "level0_csv_path = os.path.join(output_folder, lvl0_filename)\n",
    "level0_data = pd.read_csv(level0_csv_path)"
   ],
   "metadata": {
    "collapsed": false,
    "ExecuteTime": {
     "end_time": "2025-07-17T16:27:02.870413Z",
     "start_time": "2025-07-17T16:27:02.860303Z"
    }
   },
   "id": "4cef143f40b335ca",
   "execution_count": 4
  },
  {
   "cell_type": "code",
   "outputs": [],
   "source": [
    "# Function to identify the different depths of an eddy\n",
    "def identify_eddy(data, id_eddy, threshold):\n",
    "    mask = (\n",
    "        (data['date'] == data.at[id_eddy, 'date']) &\n",
    "        (data['rotation_direction'] == data.at[id_eddy, 'rotation_direction']) &\n",
    "        (np.sqrt((data['xc'] - data.at[id_eddy, 'xc'])**2 + (data['yc'] - data.at[id_eddy, 'yc'])**2) < threshold)\n",
    "    )\n",
    "    return data.loc[mask]"
   ],
   "metadata": {
    "collapsed": false
   },
   "id": "f750710549877271"
  },
  {
   "cell_type": "code",
   "outputs": [],
   "source": [
    "# Parameters\n",
    "dist_threshold = 2  # in number of cells\n",
    "eddy_rows_lvl1 = []  # Collect aggregated rows here\n",
    "id_level1 = 0\n",
    "idx_already_aggregated = set()\n",
    "\n",
    "# Main loop\n",
    "for idx in level0_data['id']:\n",
    "    if idx in idx_already_aggregated:\n",
    "        continue\n",
    "\n",
    "    aggregated_data = identify_vortex(level0_data, idx, dist_threshold)\n",
    "\n",
    "    row = {\n",
    "        'id': id_level1,\n",
    "        'id_lvl0': aggregated_data['id'].tolist(),\n",
    "        'date': aggregated_data.at[idx, 'date'],\n",
    "        'depth_min_[m]': aggregated_data['depth_[m]'].min(),\n",
    "        'depth_max_[m]': aggregated_data['depth_[m]'].max(),\n",
    "        'xc_mean': aggregated_data['xc'].mean(),\n",
    "        'yc_mean': aggregated_data['yc'].mean(),\n",
    "        'surface_area_mean_[m2]': aggregated_data['surface_area_[m2]'].mean(),\n",
    "        'volume_[m3]': aggregated_data['volume_slice_[m3]'].sum(),\n",
    "        'rotation_direction': aggregated_data.at[idx, 'rotation_direction'],\n",
    "        'kinetic_energy_[MJ]': aggregated_data['kinetic_energy_[MJ]'].sum()\n",
    "    }\n",
    "\n",
    "    eddy_rows_lvl1.append(row)\n",
    "    idx_already_aggregated.update(aggregated_data['id'].tolist())\n",
    "    id_level1 += 1\n",
    "\n",
    "# Create the final DataFrame using pd.concat\n",
    "df_catalogue_level1 = pd.concat([pd.DataFrame([row]) for row in eddy_rows_lvl1], ignore_index=True)"
   ],
   "metadata": {
    "collapsed": false,
    "ExecuteTime": {
     "end_time": "2025-07-17T17:05:08.769125Z",
     "start_time": "2025-07-17T17:05:07.975286Z"
    }
   },
   "id": "4a7b05ab97184acd",
   "execution_count": 48
  },
  {
   "cell_type": "code",
   "outputs": [],
   "source": [
    "df_catalogue_level1.to_csv(os.path.join(output_folder, output_filename), index=False)"
   ],
   "metadata": {
    "collapsed": false,
    "ExecuteTime": {
     "end_time": "2025-07-17T17:09:02.720300Z",
     "start_time": "2025-07-17T17:09:02.703389Z"
    }
   },
   "id": "14444bff52c5cf30",
   "execution_count": 52
  },
  {
   "cell_type": "markdown",
   "source": [
    "TO DO \n",
    "- Check depth consistency"
   ],
   "metadata": {
    "collapsed": false
   },
   "id": "7c1ba6ee16e7131b"
  },
  {
   "cell_type": "code",
   "outputs": [],
   "source": [],
   "metadata": {
    "collapsed": false
   },
   "id": "ef0a6b656e8047a0"
  }
 ],
 "metadata": {
  "kernelspec": {
   "display_name": "Python 3",
   "language": "python",
   "name": "python3"
  },
  "language_info": {
   "codemirror_mode": {
    "name": "ipython",
    "version": 2
   },
   "file_extension": ".py",
   "mimetype": "text/x-python",
   "name": "python",
   "nbconvert_exporter": "python",
   "pygments_lexer": "ipython2",
   "version": "2.7.6"
  }
 },
 "nbformat": 4,
 "nbformat_minor": 5
}
