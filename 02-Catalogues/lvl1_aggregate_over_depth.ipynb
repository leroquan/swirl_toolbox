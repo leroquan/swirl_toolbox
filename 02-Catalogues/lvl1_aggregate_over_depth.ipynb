{
 "cells": [
  {
   "cell_type": "code",
   "execution_count": 11,
   "id": "initial_id",
   "metadata": {
    "collapsed": true,
    "ExecuteTime": {
     "end_time": "2025-07-17T16:36:09.903183Z",
     "start_time": "2025-07-17T16:36:09.897183Z"
    }
   },
   "outputs": [],
   "source": [
    "import pandas as pd\n",
    "import numpy as np\n",
    "import os"
   ]
  },
  {
   "cell_type": "code",
   "outputs": [],
   "source": [
    "model = 'geneva_200m'\n",
    "params_file = 'swirl_03'\n",
    "output_folder = r'../Outputs'\n",
    "\n",
    "lvl0_filename = f'{model}_{params_file}_lvl0.csv'\n",
    "output_filename = f'{model}_{params_file}_lvl1.csv'"
   ],
   "metadata": {
    "collapsed": false
   },
   "id": "9af5de2c8655f4f9"
  },
  {
   "cell_type": "code",
   "outputs": [],
   "source": [
    "level0_csv_path = os.path.join(output_folder, lvl0_filename)\n",
    "level0_data = pd.read_csv(level0_csv_path)"
   ],
   "metadata": {
    "collapsed": false,
    "ExecuteTime": {
     "end_time": "2025-07-17T16:27:02.870413Z",
     "start_time": "2025-07-17T16:27:02.860303Z"
    }
   },
   "id": "4cef143f40b335ca",
   "execution_count": 4
  },
  {
   "cell_type": "code",
   "outputs": [],
   "source": [
    "level1_csv_path = os.path.join(output_folder, output_filename)"
   ],
   "metadata": {
    "collapsed": false,
    "ExecuteTime": {
     "end_time": "2025-07-17T17:08:15.629058Z",
     "start_time": "2025-07-17T17:08:15.624250Z"
    }
   },
   "id": "8e700586a5d6881b",
   "execution_count": 51
  },
  {
   "cell_type": "code",
   "outputs": [],
   "source": [
    "def identify_vortex(data, id_eddy, threshold):\n",
    "    #create filter\n",
    "    mask = (\n",
    "        (data['date'] == data['date'][id_eddy]) &\n",
    "        (data['rotation_direction'] == data['rotation_direction'][id_eddy]) &\n",
    "        (np.sqrt((data['xc'] - data['xc'][id_eddy])**2 + (data['yc'] - data['yc'][id_eddy])**2) < threshold)\n",
    "    )\n",
    "    \n",
    "    return  level0_data.loc[mask] #apply filter"
   ],
   "metadata": {
    "collapsed": false
   },
   "id": "f750710549877271"
  },
  {
   "cell_type": "code",
   "outputs": [],
   "source": [
    "dist_threshold = 2 # in number of cells\n",
    "\n",
    "df_catalogue_level1 = pd.DataFrame(columns=[\n",
    "    'id',\n",
    "    'id_lvl0',\n",
    "    'date',\n",
    "    'depth_min_[m]',\n",
    "    'depth_max_[m]',\n",
    "    'xc_mean',\n",
    "    'yc_mean',\n",
    "    'surface_area_mean_[m2]',\n",
    "    'volume_[m3]',\n",
    "    'rotation_direction',\n",
    "    'kinetic_energy_[MJ]'\n",
    "])\n",
    "    \n",
    "id_level1=0\n",
    "idx_already_aggregated = []\n",
    "for idx in level0_data['id']:\n",
    "    if idx in idx_already_aggregated:\n",
    "        continue\n",
    "\n",
    "    aggregated_data = identify_vortex(level0_data, idx)\n",
    "    \n",
    "    df_catalogue_level1.loc[id_level1] = [\n",
    "        id_level1,\n",
    "        aggregated_data['id'].tolist(),\n",
    "        aggregated_data['date'][idx],\n",
    "        aggregated_data['depth_[m]'].max(),\n",
    "        aggregated_data['depth_[m]'].min(),\n",
    "        aggregated_data['xc'].mean(),\n",
    "        aggregated_data['yc'].mean(),\n",
    "        aggregated_data['surface_area_[m2]'].mean(),\n",
    "        aggregated_data['volume_slice_[m3]'].sum(),\n",
    "        aggregated_data['rotation_direction'][idx],\n",
    "        aggregated_data['kinetic_energy_[MJ]'].sum()\n",
    "    ]\n",
    "    id_level1 += 1\n",
    "    idx_already_aggregated.extend(aggregated_data['id'].tolist())"
   ],
   "metadata": {
    "collapsed": false,
    "ExecuteTime": {
     "end_time": "2025-07-17T17:05:08.769125Z",
     "start_time": "2025-07-17T17:05:07.975286Z"
    }
   },
   "id": "4a7b05ab97184acd",
   "execution_count": 48
  },
  {
   "cell_type": "code",
   "outputs": [],
   "source": [
    "df_catalogue_level1.to_csv(level1_csv_path, index=False)"
   ],
   "metadata": {
    "collapsed": false,
    "ExecuteTime": {
     "end_time": "2025-07-17T17:09:02.720300Z",
     "start_time": "2025-07-17T17:09:02.703389Z"
    }
   },
   "id": "14444bff52c5cf30",
   "execution_count": 52
  },
  {
   "cell_type": "markdown",
   "source": [
    "TO DO \n",
    "- Check depth consistency"
   ],
   "metadata": {
    "collapsed": false
   },
   "id": "7c1ba6ee16e7131b"
  },
  {
   "cell_type": "code",
   "outputs": [],
   "source": [],
   "metadata": {
    "collapsed": false
   },
   "id": "ef0a6b656e8047a0"
  }
 ],
 "metadata": {
  "kernelspec": {
   "display_name": "Python 3",
   "language": "python",
   "name": "python3"
  },
  "language_info": {
   "codemirror_mode": {
    "name": "ipython",
    "version": 2
   },
   "file_extension": ".py",
   "mimetype": "text/x-python",
   "name": "python",
   "nbconvert_exporter": "python",
   "pygments_lexer": "ipython2",
   "version": "2.7.6"
  }
 },
 "nbformat": 4,
 "nbformat_minor": 5
}
