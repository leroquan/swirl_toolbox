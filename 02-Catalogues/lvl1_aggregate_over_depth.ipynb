{
 "cells": [
  {
   "cell_type": "code",
   "execution_count": 1,
   "id": "initial_id",
   "metadata": {
    "collapsed": true,
    "ExecuteTime": {
     "end_time": "2025-07-21T13:49:12.395108Z",
     "start_time": "2025-07-21T13:49:12.010971Z"
    }
   },
   "outputs": [],
   "source": [
    "import pandas as pd\n",
    "import numpy as np\n",
    "import os"
   ]
  },
  {
   "cell_type": "code",
   "outputs": [],
   "source": [
    "model = 'geneva_200m'\n",
    "params_file = 'swirl_03'\n",
    "output_folder = r'../Outputs'\n",
    "\n",
    "lvl0_filename = f'{model}_{params_file}_day1_lvl0.csv'\n",
    "output_filename = f'{model}_{params_file}_day1_lvl1.csv'"
   ],
   "metadata": {
    "collapsed": false,
    "ExecuteTime": {
     "end_time": "2025-07-21T13:49:13.030626Z",
     "start_time": "2025-07-21T13:49:13.026372Z"
    }
   },
   "id": "f321745ae0ea2e97",
   "execution_count": 2
  },
  {
   "cell_type": "markdown",
   "source": [
    "# Import catalogue lvl0"
   ],
   "metadata": {
    "collapsed": false
   },
   "id": "fac201910326c09d"
  },
  {
   "cell_type": "code",
   "outputs": [],
   "source": [
    "level0_csv_path = os.path.join(output_folder, lvl0_filename)\n",
    "level0_data = pd.read_csv(level0_csv_path)"
   ],
   "metadata": {
    "collapsed": false,
    "ExecuteTime": {
     "end_time": "2025-07-21T13:49:13.845779Z",
     "start_time": "2025-07-21T13:49:13.784232Z"
    }
   },
   "id": "ba9a35b43c2ca027",
   "execution_count": 3
  },
  {
   "cell_type": "markdown",
   "source": [
    "# Create catalogue lvl1"
   ],
   "metadata": {
    "collapsed": false
   },
   "id": "ef66a6f66409a2f7"
  },
  {
   "cell_type": "code",
   "outputs": [],
   "source": [
    "# Function to identify the different depths of an eddy\n",
    "def identify_eddy(level0_data, idx_already_aggregated, id_eddy, dist_threshold, depth_threshold):\n",
    "    mask = (\n",
    "            (~level0_data['id'].isin(idx_already_aggregated)) &\n",
    "            (level0_data['date'] == level0_data.at[id_eddy, 'date']) &\n",
    "            (level0_data['rotation_direction'] == level0_data.at[id_eddy, 'rotation_direction']) &\n",
    "            (np.sqrt((level0_data['xc'] - level0_data.at[id_eddy, 'xc'])**2 + (level0_data['yc'] - level0_data.at[id_eddy, 'yc'])**2) < dist_threshold)\n",
    "        )\n",
    "    \n",
    "    filtered_eddies = level0_data.loc[mask]\n",
    "    sorted_by_depth = filtered_eddies.sort_values('depth_[m]', ascending=False).reset_index(drop=False)\n",
    "    \n",
    "    for i in range(1,len(sorted_by_depth)):\n",
    "        if sorted_by_depth.iloc[i]['depth_index'] - sorted_by_depth.iloc[i-1]['depth_index']> depth_threshold:\n",
    "            drop_idxs = sorted_by_depth.index[i:]\n",
    "            sorted_by_depth = sorted_by_depth.drop(index=drop_idxs)            \n",
    "            break\n",
    "    \n",
    "    return sorted_by_depth"
   ],
   "metadata": {
    "collapsed": false,
    "ExecuteTime": {
     "end_time": "2025-07-21T13:49:14.695417Z",
     "start_time": "2025-07-21T13:49:14.685074Z"
    }
   },
   "id": "1ad32e60d3361fe1",
   "execution_count": 4
  },
  {
   "cell_type": "code",
   "outputs": [],
   "source": [
    "# Parameters\n",
    "dist_threshold = 5  # in number of cells\n",
    "depth_threshold = 5 # in number of cells\n",
    "eddy_rows_lvl1 = []  # Collect aggregated rows here\n",
    "id_level1 = 0\n",
    "idx_already_aggregated = set()\n",
    "\n",
    "# Main loop\n",
    "for idx in level0_data['id']: #level0_data['id']\n",
    "    if idx in idx_already_aggregated:\n",
    "        continue\n",
    "        \n",
    "    aggregated_data = identify_eddy(level0_data, idx_already_aggregated, idx, dist_threshold, depth_threshold)\n",
    "\n",
    "    row = {\n",
    "        'id': id_level1,\n",
    "        'id_lvl0': aggregated_data['id'].tolist(),\n",
    "        'time_index': aggregated_data.at[0, 'time_index'],\n",
    "        'date': aggregated_data.at[0, 'date'],\n",
    "        'depth_min_[m]': aggregated_data['depth_[m]'].min(),\n",
    "        'depth_max_[m]': aggregated_data['depth_[m]'].max(),\n",
    "        'xc_mean': aggregated_data['xc'].mean(),\n",
    "        'yc_mean': aggregated_data['yc'].mean(),\n",
    "        'surface_area_mean_[m2]': aggregated_data['surface_area_[m2]'].mean(),\n",
    "        'volume_[m3]': aggregated_data['volume_slice_[m3]'].sum(),\n",
    "        'rotation_direction': aggregated_data.at[0, 'rotation_direction'],\n",
    "        'kinetic_energy_[MJ]': aggregated_data['kinetic_energy_[MJ]'].sum()\n",
    "    }\n",
    "\n",
    "    eddy_rows_lvl1.append(row)\n",
    "    idx_already_aggregated.update(aggregated_data['id'].tolist())\n",
    "    id_level1 += 1\n",
    "\n",
    "# Create the final DataFrame using pd.concat\n",
    "df_catalogue_level1 = pd.concat([pd.DataFrame([row]) for row in eddy_rows_lvl1], ignore_index=True)"
   ],
   "metadata": {
    "collapsed": false,
    "ExecuteTime": {
     "end_time": "2025-07-21T14:04:01.478992Z",
     "start_time": "2025-07-21T14:03:37.825224Z"
    }
   },
   "id": "5340ce6ba63dc83f",
   "execution_count": 7
  },
  {
   "cell_type": "markdown",
   "source": [
    "# Save "
   ],
   "metadata": {
    "collapsed": false
   },
   "id": "fb00a711492ce3e"
  },
  {
   "cell_type": "code",
   "outputs": [],
   "source": [
    "df_catalogue_level1.to_csv(os.path.join(output_folder, output_filename), index=False)"
   ],
   "metadata": {
    "collapsed": false,
    "ExecuteTime": {
     "end_time": "2025-07-21T14:04:01.534896Z",
     "start_time": "2025-07-21T14:04:01.481453Z"
    }
   },
   "id": "9c0c14805d58fd68",
   "execution_count": 8
  },
  {
   "cell_type": "markdown",
   "source": [
    "# Plot"
   ],
   "metadata": {
    "collapsed": false
   },
   "id": "92ff51d6939bbbc2"
  },
  {
   "cell_type": "code",
   "outputs": [],
   "source": [
    "import matplotlib.pyplot as plt"
   ],
   "metadata": {
    "collapsed": false
   },
   "id": "dc698fab30aa6fd6"
  },
  {
   "cell_type": "code",
   "outputs": [],
   "source": [
    "level0_data.iloc[df_catalogue_level1['id_lvl0'].iloc[0]]"
   ],
   "metadata": {
    "collapsed": false
   },
   "id": "c288eba2aefbb1a8"
  },
  {
   "cell_type": "code",
   "outputs": [],
   "source": [
    "df_catalogue_level1[df_catalogue_level1['date']==df_catalogue_level1['date'][0]]"
   ],
   "metadata": {
    "collapsed": false
   },
   "id": "1f09189c555b9999"
  },
  {
   "cell_type": "code",
   "outputs": [],
   "source": [
    "snapshot_catalogue_lvl1 = df_catalogue_level1[df_catalogue_level1['date']==df_catalogue_level1['date'][0]]\n",
    "plt.scatter(snapshot_catalogue_lvl1['xc_mean'], snapshot_catalogue_lvl1['yc_mean'], alpha=0.5, s=2)"
   ],
   "metadata": {
    "collapsed": false
   },
   "id": "89e0167b4c542f0b"
  },
  {
   "cell_type": "code",
   "outputs": [],
   "source": [],
   "metadata": {
    "collapsed": false
   },
   "id": "ef0a6b656e8047a0"
  }
 ],
 "metadata": {
  "kernelspec": {
   "display_name": "Python 3",
   "language": "python",
   "name": "python3"
  },
  "language_info": {
   "codemirror_mode": {
    "name": "ipython",
    "version": 2
   },
   "file_extension": ".py",
   "mimetype": "text/x-python",
   "name": "python",
   "nbconvert_exporter": "python",
   "pygments_lexer": "ipython2",
   "version": "2.7.6"
  }
 },
 "nbformat": 4,
 "nbformat_minor": 5
}
