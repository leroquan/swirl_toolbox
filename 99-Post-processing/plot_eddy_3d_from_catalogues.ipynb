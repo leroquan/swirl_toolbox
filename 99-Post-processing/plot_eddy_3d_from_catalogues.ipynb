{
 "cells": [
  {
   "cell_type": "code",
   "execution_count": 1,
   "id": "initial_id",
   "metadata": {
    "collapsed": true,
    "ExecuteTime": {
     "end_time": "2025-07-22T09:18:02.920930Z",
     "start_time": "2025-07-22T09:18:02.429427Z"
    }
   },
   "outputs": [],
   "source": [
    "import pandas as pd\n",
    "import numpy as np\n",
    "import os\n",
    "import ast\n",
    "\n",
    "import pyvista as pv\n",
    "import panel as pn\n",
    "pn.extension('vtk')\n",
    "\n",
    "from tqdm import tqdm\n",
    "from pathlib import Path"
   ]
  },
  {
   "cell_type": "code",
   "outputs": [],
   "source": [
    "model = 'geneva_200m'\n",
    "params_file = 'swirl_03'\n",
    "output_folder = r'../Outputs'"
   ],
   "metadata": {
    "collapsed": false,
    "ExecuteTime": {
     "end_time": "2025-07-22T09:18:03.134827Z",
     "start_time": "2025-07-22T09:18:03.131528Z"
    }
   },
   "id": "bf66a21c13f52507",
   "execution_count": 2
  },
  {
   "cell_type": "markdown",
   "source": [
    "# Import catalogues"
   ],
   "metadata": {
    "collapsed": false
   },
   "id": "38d9b34b19481a06"
  },
  {
   "cell_type": "code",
   "outputs": [],
   "source": [
    "level0_data = pd.read_csv(os.path.join(output_folder, f'{model}_{params_file}_day1_lvl0.csv'))\n",
    "level1_data = pd.read_csv(os.path.join(output_folder, f'{model}_{params_file}_day1_lvl1.csv'))\n",
    "level2a_data = pd.read_csv(os.path.join(output_folder, f'{model}_{params_file}_day1_lvl2a.csv'))"
   ],
   "metadata": {
    "collapsed": false,
    "ExecuteTime": {
     "end_time": "2025-07-22T09:18:04.803256Z",
     "start_time": "2025-07-22T09:18:04.588205Z"
    }
   },
   "id": "6b2342b88640f4fb",
   "execution_count": 3
  },
  {
   "cell_type": "markdown",
   "source": [
    "# Select eddy to track"
   ],
   "metadata": {
    "collapsed": false
   },
   "id": "b4104d586e0fbcb7"
  },
  {
   "cell_type": "code",
   "outputs": [],
   "source": [
    "id_lvl2a = 0\n",
    "ids_lvl1 = ast.literal_eval(level2a_data.iloc[id_lvl2a]['id_lvl1'])"
   ],
   "metadata": {
    "collapsed": false,
    "ExecuteTime": {
     "end_time": "2025-07-22T09:18:05.639327Z",
     "start_time": "2025-07-22T09:18:05.633356Z"
    }
   },
   "id": "a6fb24c7c3bf2a93",
   "execution_count": 4
  },
  {
   "cell_type": "code",
   "outputs": [],
   "source": [
    "lvl1_eddy = level1_data[level1_data['id'].isin(ids_lvl1)]"
   ],
   "metadata": {
    "collapsed": false,
    "ExecuteTime": {
     "end_time": "2025-07-22T09:18:07.626825Z",
     "start_time": "2025-07-22T09:18:07.618910Z"
    }
   },
   "id": "eed0ce4622d9f27",
   "execution_count": 5
  },
  {
   "cell_type": "code",
   "outputs": [],
   "source": [
    "parsed_ids_lvl0 = []\n",
    "for item in lvl1_eddy['id_lvl0']:\n",
    "    parsed_ids_lvl0.extend(ast.literal_eval(item)) "
   ],
   "metadata": {
    "collapsed": false,
    "ExecuteTime": {
     "end_time": "2025-07-22T09:18:08.312005Z",
     "start_time": "2025-07-22T09:18:08.304132Z"
    }
   },
   "id": "245f8cb51546b7b4",
   "execution_count": 6
  },
  {
   "cell_type": "code",
   "outputs": [],
   "source": [
    "lvl0_eddy = level0_data[level0_data['id'].isin(parsed_ids_lvl0)]"
   ],
   "metadata": {
    "collapsed": false,
    "ExecuteTime": {
     "end_time": "2025-07-22T09:18:15.342165Z",
     "start_time": "2025-07-22T09:18:15.334849Z"
    }
   },
   "id": "927ab157964172ce",
   "execution_count": 7
  },
  {
   "cell_type": "markdown",
   "source": [
    "# Display eddy"
   ],
   "metadata": {
    "collapsed": false
   },
   "id": "75410400525bd512"
  },
  {
   "cell_type": "code",
   "outputs": [],
   "source": [
    "def create_grid(time_index):\n",
    "    eddy_cells = []\n",
    "    for _, row in lvl0_eddy[lvl0_eddy['time_index'] == time_index].iterrows():\n",
    "        i = np.fromstring(row['i_eddy_cells'].strip(\"[]\"), sep=' ')\n",
    "        j = np.fromstring(row['j_eddy_cells'].strip(\"[]\"), sep=' ')\n",
    "        k = np.ones(len(i)) * row['depth_index']\n",
    "        \n",
    "        coords = np.stack((i, j, k), axis=1)\n",
    "        eddy_cells.append(coords)\n",
    "        \n",
    "    eddy_cells_array = np.vstack(eddy_cells)  \n",
    "    \n",
    "    min_i, max_i = min(eddy_cells_array[:,0]), max(eddy_cells_array[:,0])\n",
    "    min_j, max_j = min(eddy_cells_array[:,1]), max(eddy_cells_array[:,1])\n",
    "    min_k, max_k = min(eddy_cells_array[:,2]), max(eddy_cells_array[:,2])\n",
    "    \n",
    "    dims = [int(max_i - min_i)+1, int(max_j-min_j)+1, int(max_k-min_k)+1]\n",
    "    \n",
    "    data_display = np.zeros(dims)\n",
    "    for cell in eddy_cells_array:\n",
    "        data_display[int(cell[0]-min_i), int(cell[1]-min_j), int(cell[2]-min_k)] = 1\n",
    "\n",
    "    dims = np.array(data_display.shape)\n",
    "    grid = pv.ImageData(dimensions=dims, spacing=(1, 1, 1), origin=(0, 0, 0))\n",
    "    grid.point_data['eddies'] = data_display.flatten(order=\"F\")\n",
    "    \n",
    "    return grid"
   ],
   "metadata": {
    "collapsed": false,
    "ExecuteTime": {
     "end_time": "2025-07-22T12:17:00.815112Z",
     "start_time": "2025-07-22T12:17:00.798949Z"
    }
   },
   "id": "368ffd805c5e3a50",
   "execution_count": 26
  },
  {
   "cell_type": "code",
   "outputs": [],
   "source": [
    "def update_plot(time_index, plotter):\n",
    "    plotter.clear()\n",
    "    grid = create_grid(time_index)\n",
    "    #plotter.add_volume(grid, scalars='eddies', opacity=[0,0.2],opacity_unit_distance=1, shade=True, cmap='viridis')\n",
    "    \n",
    "    surface = grid.contour(isosurfaces=[0.5], scalars='eddies')\n",
    "    plotter.add_mesh(surface, color='turquoise', opacity=0.5, show_edges=True)    \n",
    "    plotter.add_text(f\"Time Index: {time_index}\", position='upper_left', font_size=12, color='black')\n",
    "\n",
    "    plotter.add_axes()\n",
    "    plotter.camera_position = 'yz'\n",
    "    plot_pane.object = plotter.ren_win"
   ],
   "metadata": {
    "collapsed": false
   },
   "id": "13eb6edb2d7bf554"
  },
  {
   "cell_type": "markdown",
   "source": [
    "# Make video (frames)"
   ],
   "metadata": {
    "collapsed": false
   },
   "id": "95d6c588d9619c68"
  },
  {
   "cell_type": "code",
   "outputs": [
    {
     "name": "stderr",
     "output_type": "stream",
     "text": [
      "Rendering frames:   0%|          | 0/24 [00:00<?, ?it/s]libEGL warning: failed to open /dev/dri/renderD128: Permission denied\n",
      "\n",
      "libEGL warning: failed to open /dev/dri/renderD128: Permission denied\n",
      "\n",
      "\u001B[0m\u001B[33m2025-07-22 14:31:21.524 (11585.182s) [        93487740] vtkEGLRenderWindow.cxx:351   WARN| vtkEGLRenderWindow (0x5557fd1f5600): EGL device index: 0 could not be initialized. Trying other devices...\u001B[0m\n",
      "Rendering frames: 100%|██████████| 24/24 [00:04<00:00,  5.04it/s]\n"
     ]
    }
   ],
   "source": [
    "frames_dir = Path(f\"..//Plots//video_frames_{model}_{params_file}\")\n",
    "frames_dir.mkdir(exist_ok=True)\n",
    "\n",
    "# Parameters\n",
    "time_indices = np.unique(lvl0_eddy['time_index'])\n",
    "frame_paths = []\n",
    "\n",
    "# Loop through time steps and save each frame\n",
    "plotter = pv.Plotter(off_screen=True)\n",
    "for t in tqdm(time_indices, desc=\"Rendering frames\"):\n",
    "    update_plot(t, plotter)    \n",
    "    # Save screenshot\n",
    "    filename = frames_dir / f\"frame_{int(t):04d}.png\"\n",
    "    plotter.screenshot(str(filename))\n",
    "    frame_paths.append(filename)"
   ],
   "metadata": {
    "collapsed": false,
    "ExecuteTime": {
     "end_time": "2025-07-22T12:31:26.248310Z",
     "start_time": "2025-07-22T12:31:21.471266Z"
    }
   },
   "id": "561112313372a72a",
   "execution_count": 46
  },
  {
   "cell_type": "markdown",
   "source": [
    "# Display in dashboard"
   ],
   "metadata": {
    "collapsed": false
   },
   "id": "4f53cd42a01e7fc0"
  },
  {
   "cell_type": "code",
   "outputs": [
    {
     "name": "stdout",
     "output_type": "stream",
     "text": [
      "Launching server at http://localhost:42965\n"
     ]
    },
    {
     "data": {
      "text/plain": "<panel.io.server.Server at 0x7f2efc59e350>"
     },
     "execution_count": 36,
     "metadata": {},
     "output_type": "execute_result"
    }
   ],
   "source": [
    "# Setup PyVista plotter\n",
    "plotter = pv.Plotter(off_screen=True)\n",
    "plot_pane = pn.pane.VTK(plotter.ren_win, sizing_mode='stretch_both')\n",
    "\n",
    "# Create Panel slider\n",
    "slider = pn.widgets.IntSlider(name=\"Time\", start=0, end=len(np.unique(lvl0_eddy['time_index'])), step=1)\n",
    "slider.param.watch(lambda e: update_plot(e.new, plotter), 'value')\n",
    "\n",
    "# Initial plot\n",
    "update_plot(0, plotter)\n",
    "\n",
    "# Display layout\n",
    "dashboard = pn.Column(slider, plot_pane)\n",
    "dashboard.show()"
   ],
   "metadata": {
    "collapsed": false,
    "ExecuteTime": {
     "end_time": "2025-07-22T12:25:22.595732Z",
     "start_time": "2025-07-22T12:25:22.532870Z"
    }
   },
   "id": "9e365d79de849267",
   "execution_count": 36
  },
  {
   "cell_type": "code",
   "outputs": [],
   "source": [],
   "metadata": {
    "collapsed": false
   },
   "id": "8f7f5c6f4528aa40"
  }
 ],
 "metadata": {
  "kernelspec": {
   "display_name": "Python 3",
   "language": "python",
   "name": "python3"
  },
  "language_info": {
   "codemirror_mode": {
    "name": "ipython",
    "version": 2
   },
   "file_extension": ".py",
   "mimetype": "text/x-python",
   "name": "python",
   "nbconvert_exporter": "python",
   "pygments_lexer": "ipython2",
   "version": "2.7.6"
  }
 },
 "nbformat": 4,
 "nbformat_minor": 5
}
