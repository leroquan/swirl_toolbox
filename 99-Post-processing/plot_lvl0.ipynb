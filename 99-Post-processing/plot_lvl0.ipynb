{
 "cells": [
  {
   "cell_type": "code",
   "execution_count": 1,
   "id": "initial_id",
   "metadata": {
    "collapsed": true,
    "ExecuteTime": {
     "end_time": "2025-07-29T11:55:38.286169Z",
     "start_time": "2025-07-29T11:55:36.843176Z"
    }
   },
   "outputs": [],
   "source": [
    "import pandas as pd\n",
    "import numpy as np\n",
    "import os\n",
    "import ast\n",
    "\n",
    "import matplotlib.pyplot as plt\n",
    "\n",
    "from utils_mitgcm import open_mitgcm_ds_from_config"
   ]
  },
  {
   "cell_type": "code",
   "outputs": [],
   "source": [
    "model = 'geneva_200m'\n",
    "params_file = 'swirl_03'\n",
    "output_folder = r'../Outputs'"
   ],
   "metadata": {
    "collapsed": false,
    "ExecuteTime": {
     "end_time": "2025-07-29T11:55:38.292467Z",
     "start_time": "2025-07-29T11:55:38.288564Z"
    }
   },
   "id": "6ad23e8be07c2fae",
   "execution_count": 2
  },
  {
   "cell_type": "markdown",
   "source": [
    "# Import catalogues"
   ],
   "metadata": {
    "collapsed": false
   },
   "id": "bf28c938cc81fca9"
  },
  {
   "cell_type": "code",
   "outputs": [],
   "source": [
    "level2a_data = pd.read_csv(os.path.join(output_folder, 'test_cscs/geneva_200m_swirl_03_day20240301_lvl0.csv'))"
   ],
   "metadata": {
    "collapsed": false,
    "ExecuteTime": {
     "end_time": "2025-07-29T11:55:38.347431Z",
     "start_time": "2025-07-29T11:55:38.294020Z"
    }
   },
   "id": "d803709d978dd0ea",
   "execution_count": 3
  },
  {
   "cell_type": "markdown",
   "source": [
    "# Open MITgcm results"
   ],
   "metadata": {
    "collapsed": false
   },
   "id": "f631428c434c4a36"
  },
  {
   "cell_type": "code",
   "outputs": [],
   "source": [
    "ti = 0\n",
    "di = 0\n",
    "sel_time_rows = level2a_data[level2a_data['time_index'] == ti]\n",
    "sel_depth_rows = level2a_data[level2a_data['depth_index'] == di]"
   ],
   "metadata": {
    "collapsed": false,
    "ExecuteTime": {
     "end_time": "2025-07-29T12:00:45.629822Z",
     "start_time": "2025-07-29T12:00:45.624107Z"
    }
   },
   "id": "e073cf172f42f661",
   "execution_count": 14
  },
  {
   "cell_type": "code",
   "outputs": [
    {
     "data": {
      "text/plain": "      id  time_index  depth_index  eddy_index                 date  \\\n0      0           0            1           0  2024-03-01 00:05:00   \n1      1           0            2           0  2024-03-01 00:05:00   \n2      2           0            2           1  2024-03-01 00:05:00   \n3      3           0            3           0  2024-03-01 00:05:00   \n4      4           0            3           1  2024-03-01 00:05:00   \n..   ...         ...          ...         ...                  ...   \n157  157           0           80           0  2024-03-01 00:05:00   \n158  158           0           82           0  2024-03-01 00:05:00   \n159  159           0           84           0  2024-03-01 00:05:00   \n160  160           0           85           0  2024-03-01 00:05:00   \n161  161           0           86           0  2024-03-01 00:05:00   \n\n      depth_[m]          xc         yc  surface_area_[m2]  volume_slice_[m3]  \\\n0     -0.757500  309.803030  42.560606           880000.0           446600.0   \n1     -1.280500   35.868421  55.710526           360000.0           188280.0   \n2     -1.280500   69.250000  85.583333           240000.0           125520.0   \n3     -1.820000   36.318182  56.045455           200000.0           107900.0   \n4     -1.820000   69.357143  84.928571           320000.0           172640.0   \n..          ...         ...        ...                ...                ...   \n157 -170.084503  264.269231  74.346154           200000.0          1112200.0   \n158 -181.725006  263.300000  74.300000           240000.0          1418040.0   \n159 -194.093506  263.192308  73.500000           240000.0          1506720.0   \n160 -200.564499  263.192308  73.500000           240000.0          1553040.0   \n161 -207.234497  263.136364  73.500000           200000.0          1334000.0   \n\n    rotation_direction  kinetic_energy_[MJ]  \\\n0        anticlockwise         0.000000e+00   \n1            clockwise         2.621784e-07   \n2            clockwise         0.000000e+00   \n3            clockwise         2.688205e-08   \n4            clockwise         2.194512e-08   \n..                 ...                  ...   \n157      anticlockwise         0.000000e+00   \n158      anticlockwise         0.000000e+00   \n159      anticlockwise         3.784561e-07   \n160      anticlockwise         3.896327e-07   \n161      anticlockwise         3.990924e-07   \n\n                                          i_eddy_cells  \\\n0    [307. 307. 308. 308. 308. 308. 308. 309. 309. ...   \n1                [34. 35. 35. 35. 36. 36. 37. 37. 37.]   \n2                            [68. 69. 69. 69. 69. 70.]   \n3                                [35. 36. 36. 37. 37.]   \n4                    [68. 68. 69. 69. 69. 70. 70. 71.]   \n..                                                 ...   \n157                         [263. 264. 264. 264. 265.]   \n158                    [262. 263. 263. 264. 264. 264.]   \n159                    [262. 262. 263. 263. 264. 264.]   \n160                    [262. 262. 263. 263. 264. 264.]   \n161                         [262. 262. 263. 263. 264.]   \n\n                                          j_eddy_cells  \n0    [43. 44. 40. 41. 42. 43. 44. 41. 42. 43. 44. 4...  \n1                [55. 54. 55. 57. 54. 55. 54. 55. 56.]  \n2                            [85. 84. 85. 86. 87. 85.]  \n3                                [56. 55. 57. 55. 56.]  \n4                    [84. 85. 84. 85. 86. 84. 86. 85.]  \n..                                                 ...  \n157                              [74. 73. 74. 75. 74.]  \n158                          [74. 73. 74. 73. 74. 75.]  \n159                          [73. 74. 73. 74. 73. 74.]  \n160                          [73. 74. 73. 74. 73. 74.]  \n161                              [73. 74. 73. 74. 74.]  \n\n[162 rows x 14 columns]",
      "text/html": "<div>\n<style scoped>\n    .dataframe tbody tr th:only-of-type {\n        vertical-align: middle;\n    }\n\n    .dataframe tbody tr th {\n        vertical-align: top;\n    }\n\n    .dataframe thead th {\n        text-align: right;\n    }\n</style>\n<table border=\"1\" class=\"dataframe\">\n  <thead>\n    <tr style=\"text-align: right;\">\n      <th></th>\n      <th>id</th>\n      <th>time_index</th>\n      <th>depth_index</th>\n      <th>eddy_index</th>\n      <th>date</th>\n      <th>depth_[m]</th>\n      <th>xc</th>\n      <th>yc</th>\n      <th>surface_area_[m2]</th>\n      <th>volume_slice_[m3]</th>\n      <th>rotation_direction</th>\n      <th>kinetic_energy_[MJ]</th>\n      <th>i_eddy_cells</th>\n      <th>j_eddy_cells</th>\n    </tr>\n  </thead>\n  <tbody>\n    <tr>\n      <th>0</th>\n      <td>0</td>\n      <td>0</td>\n      <td>1</td>\n      <td>0</td>\n      <td>2024-03-01 00:05:00</td>\n      <td>-0.757500</td>\n      <td>309.803030</td>\n      <td>42.560606</td>\n      <td>880000.0</td>\n      <td>446600.0</td>\n      <td>anticlockwise</td>\n      <td>0.000000e+00</td>\n      <td>[307. 307. 308. 308. 308. 308. 308. 309. 309. ...</td>\n      <td>[43. 44. 40. 41. 42. 43. 44. 41. 42. 43. 44. 4...</td>\n    </tr>\n    <tr>\n      <th>1</th>\n      <td>1</td>\n      <td>0</td>\n      <td>2</td>\n      <td>0</td>\n      <td>2024-03-01 00:05:00</td>\n      <td>-1.280500</td>\n      <td>35.868421</td>\n      <td>55.710526</td>\n      <td>360000.0</td>\n      <td>188280.0</td>\n      <td>clockwise</td>\n      <td>2.621784e-07</td>\n      <td>[34. 35. 35. 35. 36. 36. 37. 37. 37.]</td>\n      <td>[55. 54. 55. 57. 54. 55. 54. 55. 56.]</td>\n    </tr>\n    <tr>\n      <th>2</th>\n      <td>2</td>\n      <td>0</td>\n      <td>2</td>\n      <td>1</td>\n      <td>2024-03-01 00:05:00</td>\n      <td>-1.280500</td>\n      <td>69.250000</td>\n      <td>85.583333</td>\n      <td>240000.0</td>\n      <td>125520.0</td>\n      <td>clockwise</td>\n      <td>0.000000e+00</td>\n      <td>[68. 69. 69. 69. 69. 70.]</td>\n      <td>[85. 84. 85. 86. 87. 85.]</td>\n    </tr>\n    <tr>\n      <th>3</th>\n      <td>3</td>\n      <td>0</td>\n      <td>3</td>\n      <td>0</td>\n      <td>2024-03-01 00:05:00</td>\n      <td>-1.820000</td>\n      <td>36.318182</td>\n      <td>56.045455</td>\n      <td>200000.0</td>\n      <td>107900.0</td>\n      <td>clockwise</td>\n      <td>2.688205e-08</td>\n      <td>[35. 36. 36. 37. 37.]</td>\n      <td>[56. 55. 57. 55. 56.]</td>\n    </tr>\n    <tr>\n      <th>4</th>\n      <td>4</td>\n      <td>0</td>\n      <td>3</td>\n      <td>1</td>\n      <td>2024-03-01 00:05:00</td>\n      <td>-1.820000</td>\n      <td>69.357143</td>\n      <td>84.928571</td>\n      <td>320000.0</td>\n      <td>172640.0</td>\n      <td>clockwise</td>\n      <td>2.194512e-08</td>\n      <td>[68. 68. 69. 69. 69. 70. 70. 71.]</td>\n      <td>[84. 85. 84. 85. 86. 84. 86. 85.]</td>\n    </tr>\n    <tr>\n      <th>...</th>\n      <td>...</td>\n      <td>...</td>\n      <td>...</td>\n      <td>...</td>\n      <td>...</td>\n      <td>...</td>\n      <td>...</td>\n      <td>...</td>\n      <td>...</td>\n      <td>...</td>\n      <td>...</td>\n      <td>...</td>\n      <td>...</td>\n      <td>...</td>\n    </tr>\n    <tr>\n      <th>157</th>\n      <td>157</td>\n      <td>0</td>\n      <td>80</td>\n      <td>0</td>\n      <td>2024-03-01 00:05:00</td>\n      <td>-170.084503</td>\n      <td>264.269231</td>\n      <td>74.346154</td>\n      <td>200000.0</td>\n      <td>1112200.0</td>\n      <td>anticlockwise</td>\n      <td>0.000000e+00</td>\n      <td>[263. 264. 264. 264. 265.]</td>\n      <td>[74. 73. 74. 75. 74.]</td>\n    </tr>\n    <tr>\n      <th>158</th>\n      <td>158</td>\n      <td>0</td>\n      <td>82</td>\n      <td>0</td>\n      <td>2024-03-01 00:05:00</td>\n      <td>-181.725006</td>\n      <td>263.300000</td>\n      <td>74.300000</td>\n      <td>240000.0</td>\n      <td>1418040.0</td>\n      <td>anticlockwise</td>\n      <td>0.000000e+00</td>\n      <td>[262. 263. 263. 264. 264. 264.]</td>\n      <td>[74. 73. 74. 73. 74. 75.]</td>\n    </tr>\n    <tr>\n      <th>159</th>\n      <td>159</td>\n      <td>0</td>\n      <td>84</td>\n      <td>0</td>\n      <td>2024-03-01 00:05:00</td>\n      <td>-194.093506</td>\n      <td>263.192308</td>\n      <td>73.500000</td>\n      <td>240000.0</td>\n      <td>1506720.0</td>\n      <td>anticlockwise</td>\n      <td>3.784561e-07</td>\n      <td>[262. 262. 263. 263. 264. 264.]</td>\n      <td>[73. 74. 73. 74. 73. 74.]</td>\n    </tr>\n    <tr>\n      <th>160</th>\n      <td>160</td>\n      <td>0</td>\n      <td>85</td>\n      <td>0</td>\n      <td>2024-03-01 00:05:00</td>\n      <td>-200.564499</td>\n      <td>263.192308</td>\n      <td>73.500000</td>\n      <td>240000.0</td>\n      <td>1553040.0</td>\n      <td>anticlockwise</td>\n      <td>3.896327e-07</td>\n      <td>[262. 262. 263. 263. 264. 264.]</td>\n      <td>[73. 74. 73. 74. 73. 74.]</td>\n    </tr>\n    <tr>\n      <th>161</th>\n      <td>161</td>\n      <td>0</td>\n      <td>86</td>\n      <td>0</td>\n      <td>2024-03-01 00:05:00</td>\n      <td>-207.234497</td>\n      <td>263.136364</td>\n      <td>73.500000</td>\n      <td>200000.0</td>\n      <td>1334000.0</td>\n      <td>anticlockwise</td>\n      <td>3.990924e-07</td>\n      <td>[262. 262. 263. 263. 264.]</td>\n      <td>[73. 74. 73. 74. 74.]</td>\n    </tr>\n  </tbody>\n</table>\n<p>162 rows × 14 columns</p>\n</div>"
     },
     "execution_count": 16,
     "metadata": {},
     "output_type": "execute_result"
    }
   ],
   "source": [
    "sel_time_rows"
   ],
   "metadata": {
    "collapsed": false,
    "ExecuteTime": {
     "end_time": "2025-07-29T12:01:18.597996Z",
     "start_time": "2025-07-29T12:01:18.574612Z"
    }
   },
   "id": "d5a6a023f9cd363f",
   "execution_count": 16
  },
  {
   "cell_type": "code",
   "outputs": [],
   "source": [],
   "metadata": {
    "collapsed": false
   },
   "id": "27fbfcf23b60cd57"
  }
 ],
 "metadata": {
  "kernelspec": {
   "display_name": "Python 3",
   "language": "python",
   "name": "python3"
  },
  "language_info": {
   "codemirror_mode": {
    "name": "ipython",
    "version": 2
   },
   "file_extension": ".py",
   "mimetype": "text/x-python",
   "name": "python",
   "nbconvert_exporter": "python",
   "pygments_lexer": "ipython2",
   "version": "2.7.6"
  }
 },
 "nbformat": 4,
 "nbformat_minor": 5
}
